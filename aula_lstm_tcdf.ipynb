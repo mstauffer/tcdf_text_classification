{
  "nbformat": 4,
  "nbformat_minor": 0,
  "metadata": {
    "colab": {
      "name": "aula_lstm_tcdf.ipynb",
      "provenance": [],
      "collapsed_sections": [
        "IXewSf15ogWE",
        "gu_f57fMogWN",
        "RURNhwW0kdpB",
        "gyu8Ootk5fYV",
        "dVZBlmqKlCA3",
        "NG_CWq2--yRf",
        "Uv2HlDU1pbdf"
      ],
      "toc_visible": true
    },
    "kernelspec": {
      "display_name": "Python 3",
      "language": "python",
      "name": "python3"
    },
    "language_info": {
      "codemirror_mode": {
        "name": "ipython",
        "version": 3
      },
      "file_extension": ".py",
      "mimetype": "text/x-python",
      "name": "python",
      "nbconvert_exporter": "python",
      "pygments_lexer": "ipython3",
      "version": "3.6.9"
    },
    "accelerator": "GPU"
  },
  "cells": [
    {
      "cell_type": "markdown",
      "metadata": {
        "id": "Zd1LFgD4ogWB"
      },
      "source": [
        "# LSTM - Aula TCDF 27/08/21\n",
        "\n",
        "Esse notebook é um guia para utilização de LSTMs em tarefas de classificação de textos. O código foi preparado por Matheus Stauffer Viana de Oliveira, aluno do curso de Licenciatura em Computação da Universidade de Brasília, em conjunto com o professor Dr. Thiago Faleiros. Ambos os autores são membros do projeto [KnEDLe](http://nido.unb.br/).\n",
        "\n",
        "Alguns links de recursos de referência para esse trabalho são os seguintes:\n",
        "- https://djajafer.medium.com/multi-class-text-classification-with-keras-and-lstm-4c5525bef592\n",
        "- https://medium.com/towards-artificial-intelligence/keras-for-multi-label-text-classification-86d194311d0e\n",
        "- https://www.youtube.com/watch?v=j7EB7yeySDw\n",
        "- https://medium.com/swlh/multi-label-text-classification-with-scikit-learn-and-tensorflow-257f9ee30536\n",
        "- https://datascience.stackexchange.com/questions/45165/how-to-get-accuracy-f1-precision-and-recall-for-a-keras-model\n",
        "- https://www.kaggle.com/kredy10/simple-lstm-for-text-classification"
      ]
    },
    {
      "cell_type": "markdown",
      "metadata": {
        "id": "IXewSf15ogWE"
      },
      "source": [
        "## Import dos dados"
      ]
    },
    {
      "cell_type": "markdown",
      "metadata": {
        "id": "Arx4HWMA5IOf"
      },
      "source": [
        "Lidaremos com dados armazenados em repositório do GitHub. Para tanto, precisamos clonar o repositório para a sessão corrente do Colab:"
      ]
    },
    {
      "cell_type": "code",
      "metadata": {
        "colab": {
          "base_uri": "https://localhost:8080/"
        },
        "id": "fECpqc9wjnOD",
        "outputId": "25c15386-aa0e-44e5-a75a-414e4d3aa3fa"
      },
      "source": [
        "!git clone -l -s git://github.com/mstauffer/tcdf_text_classification.git"
      ],
      "execution_count": 1,
      "outputs": [
        {
          "output_type": "stream",
          "text": [
            "Cloning into 'tcdf_text_classification'...\n",
            "warning: --local is ignored\n",
            "remote: Enumerating objects: 18, done.\u001b[K\n",
            "remote: Counting objects:   5% (1/18)\u001b[K\rremote: Counting objects:  11% (2/18)\u001b[K\rremote: Counting objects:  16% (3/18)\u001b[K\rremote: Counting objects:  22% (4/18)\u001b[K\rremote: Counting objects:  27% (5/18)\u001b[K\rremote: Counting objects:  33% (6/18)\u001b[K\rremote: Counting objects:  38% (7/18)\u001b[K\rremote: Counting objects:  44% (8/18)\u001b[K\rremote: Counting objects:  50% (9/18)\u001b[K\rremote: Counting objects:  55% (10/18)\u001b[K\rremote: Counting objects:  61% (11/18)\u001b[K\rremote: Counting objects:  66% (12/18)\u001b[K\rremote: Counting objects:  72% (13/18)\u001b[K\rremote: Counting objects:  77% (14/18)\u001b[K\rremote: Counting objects:  83% (15/18)\u001b[K\rremote: Counting objects:  88% (16/18)\u001b[K\rremote: Counting objects:  94% (17/18)\u001b[K\rremote: Counting objects: 100% (18/18)\u001b[K\rremote: Counting objects: 100% (18/18), done.\u001b[K\n",
            "remote: Compressing objects: 100% (14/14), done.\u001b[K\n",
            "remote: Total 18 (delta 4), reused 13 (delta 2), pack-reused 0\u001b[K\n",
            "Receiving objects: 100% (18/18), 439.71 KiB | 4.53 MiB/s, done.\n",
            "Resolving deltas: 100% (4/4), done.\n"
          ],
          "name": "stdout"
        }
      ]
    },
    {
      "cell_type": "markdown",
      "metadata": {
        "id": "JpUU7q19_aPG"
      },
      "source": [
        "## Dados de atos de pessoal do DODF"
      ]
    },
    {
      "cell_type": "markdown",
      "metadata": {
        "id": "06jPpT2eXyv-"
      },
      "source": [
        "Esse conjunto de dados é uma iniciativa do projeto de pesquisa [KnEDLe](http://nido.unb.br/) e está em fase final de elaboração. Os dados foram anotados manualmente pelos membros do projeto e também por voluntários. A revisão e curadoria dos dados ficou à cargo da equipe de anotação do projeto de pesquisa. A tarefa de classificação proposta aqui é, dado um texto de um ato de pessoal de entrada, prever qual é o tipo desse ato."
      ]
    },
    {
      "cell_type": "code",
      "metadata": {
        "id": "KSJChU3p_dlJ",
        "colab": {
          "base_uri": "https://localhost:8080/",
          "height": 694
        },
        "outputId": "66b824fe-0480-440a-a562-0a894137fe97"
      },
      "source": [
        "import pandas as pd\n",
        "import numpy as np\n",
        "\n",
        "df = pd.read_csv('/content/tcdf_text_classification/dodf_atos.csv')\n",
        "df"
      ],
      "execution_count": 2,
      "outputs": [
        {
          "output_type": "execute_result",
          "data": {
            "text/html": [
              "<div>\n",
              "<style scoped>\n",
              "    .dataframe tbody tr th:only-of-type {\n",
              "        vertical-align: middle;\n",
              "    }\n",
              "\n",
              "    .dataframe tbody tr th {\n",
              "        vertical-align: top;\n",
              "    }\n",
              "\n",
              "    .dataframe thead th {\n",
              "        text-align: right;\n",
              "    }\n",
              "</style>\n",
              "<table border=\"1\" class=\"dataframe\">\n",
              "  <thead>\n",
              "    <tr style=\"text-align: right;\">\n",
              "      <th></th>\n",
              "      <th>id_dodf</th>\n",
              "      <th>tipo_rel</th>\n",
              "      <th>id_rel</th>\n",
              "      <th>anotador_rel</th>\n",
              "      <th>tipo_ent</th>\n",
              "      <th>id_ent</th>\n",
              "      <th>anotador_ent</th>\n",
              "      <th>offset</th>\n",
              "      <th>length</th>\n",
              "      <th>texto</th>\n",
              "    </tr>\n",
              "  </thead>\n",
              "  <tbody>\n",
              "    <tr>\n",
              "      <th>0</th>\n",
              "      <td>80_194.30.9.8</td>\n",
              "      <td>Ato_Reversao</td>\n",
              "      <td>R1</td>\n",
              "      <td>carlos_gabriel</td>\n",
              "      <td>nome</td>\n",
              "      <td>3537</td>\n",
              "      <td>carlos_gabriel</td>\n",
              "      <td>197948</td>\n",
              "      <td>23</td>\n",
              "      <td>YURI MACHADO DE MENEZES</td>\n",
              "    </tr>\n",
              "    <tr>\n",
              "      <th>1</th>\n",
              "      <td>80_194.30.9.8</td>\n",
              "      <td>Ato_Reversao</td>\n",
              "      <td>R1</td>\n",
              "      <td>carlos_gabriel</td>\n",
              "      <td>matricula</td>\n",
              "      <td>3538</td>\n",
              "      <td>carlos_gabriel</td>\n",
              "      <td>197983</td>\n",
              "      <td>8</td>\n",
              "      <td>61.836-5</td>\n",
              "    </tr>\n",
              "    <tr>\n",
              "      <th>2</th>\n",
              "      <td>80_194.30.9.8</td>\n",
              "      <td>Ato_Reversao</td>\n",
              "      <td>R1</td>\n",
              "      <td>carlos_gabriel</td>\n",
              "      <td>vigencia</td>\n",
              "      <td>3539</td>\n",
              "      <td>carlos_gabriel</td>\n",
              "      <td>198021</td>\n",
              "      <td>22</td>\n",
              "      <td>12 de setembro de 2008</td>\n",
              "    </tr>\n",
              "    <tr>\n",
              "      <th>3</th>\n",
              "      <td>80_194.30.9.8</td>\n",
              "      <td>Ato_Reversao</td>\n",
              "      <td>R1</td>\n",
              "      <td>carlos_gabriel</td>\n",
              "      <td>Ato_Reversao</td>\n",
              "      <td>3540</td>\n",
              "      <td>carlos_gabriel</td>\n",
              "      <td>197866</td>\n",
              "      <td>178</td>\n",
              "      <td>REVERTER o REGIME DE TEMPO INTEGRAL E DEDICACA...</td>\n",
              "    </tr>\n",
              "    <tr>\n",
              "      <th>4</th>\n",
              "      <td>87_118.20.6.8</td>\n",
              "      <td>Ato_Nomeacao_Comissionado</td>\n",
              "      <td>R1</td>\n",
              "      <td>lygia_paloma</td>\n",
              "      <td>nome</td>\n",
              "      <td>1583</td>\n",
              "      <td>lygia_paloma</td>\n",
              "      <td>212316</td>\n",
              "      <td>28</td>\n",
              "      <td>JOAO PAULO PATROCINA MARQUES</td>\n",
              "    </tr>\n",
              "    <tr>\n",
              "      <th>...</th>\n",
              "      <td>...</td>\n",
              "      <td>...</td>\n",
              "      <td>...</td>\n",
              "      <td>...</td>\n",
              "      <td>...</td>\n",
              "      <td>...</td>\n",
              "      <td>...</td>\n",
              "      <td>...</td>\n",
              "      <td>...</td>\n",
              "      <td>...</td>\n",
              "    </tr>\n",
              "    <tr>\n",
              "      <th>20750</th>\n",
              "      <td>13_212.10.10.2013</td>\n",
              "      <td>Ato_Substituicao</td>\n",
              "      <td>R40</td>\n",
              "      <td>khalil_carsten</td>\n",
              "      <td>matricula_substituido</td>\n",
              "      <td>8685</td>\n",
              "      <td>vinicius_borges</td>\n",
              "      <td>644324</td>\n",
              "      <td>9</td>\n",
              "      <td>174.833-5</td>\n",
              "    </tr>\n",
              "    <tr>\n",
              "      <th>20751</th>\n",
              "      <td>13_212.10.10.2013</td>\n",
              "      <td>Ato_Substituicao</td>\n",
              "      <td>R40</td>\n",
              "      <td>khalil_carsten</td>\n",
              "      <td>data_inicial</td>\n",
              "      <td>8686</td>\n",
              "      <td>vinicius_borges</td>\n",
              "      <td>644348</td>\n",
              "      <td>2</td>\n",
              "      <td>09</td>\n",
              "    </tr>\n",
              "    <tr>\n",
              "      <th>20752</th>\n",
              "      <td>13_212.10.10.2013</td>\n",
              "      <td>Ato_Substituicao</td>\n",
              "      <td>R40</td>\n",
              "      <td>khalil_carsten</td>\n",
              "      <td>data_final</td>\n",
              "      <td>8687</td>\n",
              "      <td>vinicius_borges</td>\n",
              "      <td>644353</td>\n",
              "      <td>10</td>\n",
              "      <td>11/10/2013</td>\n",
              "    </tr>\n",
              "    <tr>\n",
              "      <th>20753</th>\n",
              "      <td>13_212.10.10.2013</td>\n",
              "      <td>Ato_Substituicao</td>\n",
              "      <td>R40</td>\n",
              "      <td>khalil_carsten</td>\n",
              "      <td>motivo</td>\n",
              "      <td>8688</td>\n",
              "      <td>vinicius_borges</td>\n",
              "      <td>644380</td>\n",
              "      <td>32</td>\n",
              "      <td>ferias regulamentares da titular</td>\n",
              "    </tr>\n",
              "    <tr>\n",
              "      <th>20754</th>\n",
              "      <td>13_212.10.10.2013</td>\n",
              "      <td>Ato_Substituicao</td>\n",
              "      <td>R40</td>\n",
              "      <td>khalil_carsten</td>\n",
              "      <td>nome_substituto</td>\n",
              "      <td>112344</td>\n",
              "      <td>khalil_carsten</td>\n",
              "      <td>644086</td>\n",
              "      <td>42</td>\n",
              "      <td>VANESSA CARNEIRO FERNANDES FERREIRA AMARAL</td>\n",
              "    </tr>\n",
              "  </tbody>\n",
              "</table>\n",
              "<p>20755 rows × 10 columns</p>\n",
              "</div>"
            ],
            "text/plain": [
              "                 id_dodf  ...                                              texto\n",
              "0          80_194.30.9.8  ...                            YURI MACHADO DE MENEZES\n",
              "1          80_194.30.9.8  ...                                           61.836-5\n",
              "2          80_194.30.9.8  ...                             12 de setembro de 2008\n",
              "3          80_194.30.9.8  ...  REVERTER o REGIME DE TEMPO INTEGRAL E DEDICACA...\n",
              "4          87_118.20.6.8  ...                       JOAO PAULO PATROCINA MARQUES\n",
              "...                  ...  ...                                                ...\n",
              "20750  13_212.10.10.2013  ...                                          174.833-5\n",
              "20751  13_212.10.10.2013  ...                                                 09\n",
              "20752  13_212.10.10.2013  ...                                         11/10/2013\n",
              "20753  13_212.10.10.2013  ...                   ferias regulamentares da titular\n",
              "20754  13_212.10.10.2013  ...         VANESSA CARNEIRO FERNANDES FERREIRA AMARAL\n",
              "\n",
              "[20755 rows x 10 columns]"
            ]
          },
          "metadata": {},
          "execution_count": 2
        }
      ]
    },
    {
      "cell_type": "code",
      "metadata": {
        "colab": {
          "base_uri": "https://localhost:8080/",
          "height": 1000
        },
        "id": "npJoyKAwH5cb",
        "outputId": "72e4f491-668b-4add-b5d1-f282baa6256d"
      },
      "source": [
        "df_atos = df.loc[df.iloc[:,4].str.contains('Ato')]\n",
        "df_atos"
      ],
      "execution_count": 3,
      "outputs": [
        {
          "output_type": "execute_result",
          "data": {
            "text/html": [
              "<div>\n",
              "<style scoped>\n",
              "    .dataframe tbody tr th:only-of-type {\n",
              "        vertical-align: middle;\n",
              "    }\n",
              "\n",
              "    .dataframe tbody tr th {\n",
              "        vertical-align: top;\n",
              "    }\n",
              "\n",
              "    .dataframe thead th {\n",
              "        text-align: right;\n",
              "    }\n",
              "</style>\n",
              "<table border=\"1\" class=\"dataframe\">\n",
              "  <thead>\n",
              "    <tr style=\"text-align: right;\">\n",
              "      <th></th>\n",
              "      <th>id_dodf</th>\n",
              "      <th>tipo_rel</th>\n",
              "      <th>id_rel</th>\n",
              "      <th>anotador_rel</th>\n",
              "      <th>tipo_ent</th>\n",
              "      <th>id_ent</th>\n",
              "      <th>anotador_ent</th>\n",
              "      <th>offset</th>\n",
              "      <th>length</th>\n",
              "      <th>texto</th>\n",
              "    </tr>\n",
              "  </thead>\n",
              "  <tbody>\n",
              "    <tr>\n",
              "      <th>3</th>\n",
              "      <td>80_194.30.9.8</td>\n",
              "      <td>Ato_Reversao</td>\n",
              "      <td>R1</td>\n",
              "      <td>carlos_gabriel</td>\n",
              "      <td>Ato_Reversao</td>\n",
              "      <td>3540</td>\n",
              "      <td>carlos_gabriel</td>\n",
              "      <td>197866</td>\n",
              "      <td>178</td>\n",
              "      <td>REVERTER o REGIME DE TEMPO INTEGRAL E DEDICACA...</td>\n",
              "    </tr>\n",
              "    <tr>\n",
              "      <th>9</th>\n",
              "      <td>87_118.20.6.8</td>\n",
              "      <td>Ato_Nomeacao_Comissionado</td>\n",
              "      <td>R1</td>\n",
              "      <td>lygia_paloma</td>\n",
              "      <td>Ato_Nomeacao_Comissionado</td>\n",
              "      <td>1588</td>\n",
              "      <td>lygia_paloma</td>\n",
              "      <td>212309</td>\n",
              "      <td>316</td>\n",
              "      <td>NOMEAR JOAO PAULO PATROCINA MARQUES para exerc...</td>\n",
              "    </tr>\n",
              "    <tr>\n",
              "      <th>10</th>\n",
              "      <td>17_133.28.6.2013</td>\n",
              "      <td>Ato_Exoneracao_Comissionado</td>\n",
              "      <td>R3</td>\n",
              "      <td>matheus_stauffer</td>\n",
              "      <td>Ato_Exoneracao_Comissionado</td>\n",
              "      <td>1178</td>\n",
              "      <td>pedro_henrique</td>\n",
              "      <td>205008</td>\n",
              "      <td>326</td>\n",
              "      <td>EXONERAR SEBASTIAO FRANCISCO DE QUEIROZ do Car...</td>\n",
              "    </tr>\n",
              "    <tr>\n",
              "      <th>19</th>\n",
              "      <td>17_133.28.6.2013</td>\n",
              "      <td>Ato_Exoneracao_Comissionado</td>\n",
              "      <td>R5</td>\n",
              "      <td>matheus_stauffer</td>\n",
              "      <td>Ato_Exoneracao_Comissionado</td>\n",
              "      <td>2354</td>\n",
              "      <td>pedro_henrique</td>\n",
              "      <td>205008</td>\n",
              "      <td>326</td>\n",
              "      <td>EXONERAR SEBASTIAO FRANCISCO DE QUEIROZ do Car...</td>\n",
              "    </tr>\n",
              "    <tr>\n",
              "      <th>28</th>\n",
              "      <td>17_133.28.6.2013</td>\n",
              "      <td>Ato_Exoneracao_Comissionado</td>\n",
              "      <td>R7</td>\n",
              "      <td>matheus_stauffer</td>\n",
              "      <td>Ato_Exoneracao_Comissionado</td>\n",
              "      <td>3530</td>\n",
              "      <td>pedro_henrique</td>\n",
              "      <td>205008</td>\n",
              "      <td>326</td>\n",
              "      <td>EXONERAR SEBASTIAO FRANCISCO DE QUEIROZ do Car...</td>\n",
              "    </tr>\n",
              "    <tr>\n",
              "      <th>...</th>\n",
              "      <td>...</td>\n",
              "      <td>...</td>\n",
              "      <td>...</td>\n",
              "      <td>...</td>\n",
              "      <td>...</td>\n",
              "      <td>...</td>\n",
              "      <td>...</td>\n",
              "      <td>...</td>\n",
              "      <td>...</td>\n",
              "      <td>...</td>\n",
              "    </tr>\n",
              "    <tr>\n",
              "      <th>20699</th>\n",
              "      <td>13_212.10.10.2013</td>\n",
              "      <td>Ato_Retificacao_Efetivo</td>\n",
              "      <td>R70</td>\n",
              "      <td>jose_reinaldo</td>\n",
              "      <td>Ato_Retificacao_Efetivo</td>\n",
              "      <td>6419</td>\n",
              "      <td>jose_reinaldo</td>\n",
              "      <td>599784</td>\n",
              "      <td>311</td>\n",
              "      <td>Na Ordem de Servico de 24/07/2013, publicada n...</td>\n",
              "    </tr>\n",
              "    <tr>\n",
              "      <th>20710</th>\n",
              "      <td>13_212.10.10.2013</td>\n",
              "      <td>Ato_Retificacao_Efetivo</td>\n",
              "      <td>R71</td>\n",
              "      <td>jose_reinaldo</td>\n",
              "      <td>Ato_Retificacao_Efetivo</td>\n",
              "      <td>6431</td>\n",
              "      <td>jose_reinaldo</td>\n",
              "      <td>600097</td>\n",
              "      <td>447</td>\n",
              "      <td>Na Ordem de Servico de 02/04/2012, publicada n...</td>\n",
              "    </tr>\n",
              "    <tr>\n",
              "      <th>20729</th>\n",
              "      <td>13_212.10.10.2013</td>\n",
              "      <td>Ato_Retificacao_Efetivo</td>\n",
              "      <td>R72</td>\n",
              "      <td>jose_reinaldo</td>\n",
              "      <td>Ato_Retificacao_Efetivo</td>\n",
              "      <td>6445</td>\n",
              "      <td>jose_reinaldo</td>\n",
              "      <td>600546</td>\n",
              "      <td>294</td>\n",
              "      <td>Na Ordem de Servico de 24/07/2013, publicada n...</td>\n",
              "    </tr>\n",
              "    <tr>\n",
              "      <th>20734</th>\n",
              "      <td>13_212.10.10.2013</td>\n",
              "      <td>Ato_Retificacao_Efetivo</td>\n",
              "      <td>R73</td>\n",
              "      <td>jose_reinaldo</td>\n",
              "      <td>Ato_Retificacao_Efetivo</td>\n",
              "      <td>6487</td>\n",
              "      <td>vinicius_borges</td>\n",
              "      <td>624445</td>\n",
              "      <td>487</td>\n",
              "      <td>RETIFICAR na Portaria de 1o de outubro de 2013...</td>\n",
              "    </tr>\n",
              "    <tr>\n",
              "      <th>20745</th>\n",
              "      <td>13_212.10.10.2013</td>\n",
              "      <td>Ato_Substituicao</td>\n",
              "      <td>R40</td>\n",
              "      <td>khalil_carsten</td>\n",
              "      <td>Ato_Substituicao</td>\n",
              "      <td>8678</td>\n",
              "      <td>vinicius_borges</td>\n",
              "      <td>644076</td>\n",
              "      <td>337</td>\n",
              "      <td>DESIGNAR: VANESSA CARNEIRO FERNANDES FERREIRA ...</td>\n",
              "    </tr>\n",
              "  </tbody>\n",
              "</table>\n",
              "<p>2262 rows × 10 columns</p>\n",
              "</div>"
            ],
            "text/plain": [
              "                 id_dodf  ...                                              texto\n",
              "3          80_194.30.9.8  ...  REVERTER o REGIME DE TEMPO INTEGRAL E DEDICACA...\n",
              "9          87_118.20.6.8  ...  NOMEAR JOAO PAULO PATROCINA MARQUES para exerc...\n",
              "10      17_133.28.6.2013  ...  EXONERAR SEBASTIAO FRANCISCO DE QUEIROZ do Car...\n",
              "19      17_133.28.6.2013  ...  EXONERAR SEBASTIAO FRANCISCO DE QUEIROZ do Car...\n",
              "28      17_133.28.6.2013  ...  EXONERAR SEBASTIAO FRANCISCO DE QUEIROZ do Car...\n",
              "...                  ...  ...                                                ...\n",
              "20699  13_212.10.10.2013  ...  Na Ordem de Servico de 24/07/2013, publicada n...\n",
              "20710  13_212.10.10.2013  ...  Na Ordem de Servico de 02/04/2012, publicada n...\n",
              "20729  13_212.10.10.2013  ...  Na Ordem de Servico de 24/07/2013, publicada n...\n",
              "20734  13_212.10.10.2013  ...  RETIFICAR na Portaria de 1o de outubro de 2013...\n",
              "20745  13_212.10.10.2013  ...  DESIGNAR: VANESSA CARNEIRO FERNANDES FERREIRA ...\n",
              "\n",
              "[2262 rows x 10 columns]"
            ]
          },
          "metadata": {},
          "execution_count": 3
        }
      ]
    },
    {
      "cell_type": "markdown",
      "metadata": {
        "id": "_HXtKPlBAy3O"
      },
      "source": [
        "Gerando um dicionário que mapeia tipos de ato para valores inteiros e adicionando ao dataframe."
      ]
    },
    {
      "cell_type": "code",
      "metadata": {
        "colab": {
          "base_uri": "https://localhost:8080/"
        },
        "id": "yAscN6HdIJ6T",
        "outputId": "7c2549b8-d2b9-46cc-a133-37334fbf877a"
      },
      "source": [
        "labels_unique = df_atos.tipo_ent.unique().tolist()\n",
        "labels_unique_dict = {}\n",
        "for index, possible_label in enumerate(labels_unique):\n",
        "    labels_unique_dict[possible_label] = index\n",
        "labels_unique_dict"
      ],
      "execution_count": 4,
      "outputs": [
        {
          "output_type": "execute_result",
          "data": {
            "text/plain": [
              "{'Ato_Abono_Permanencia': 8,\n",
              " 'Ato_Cessao': 5,\n",
              " 'Ato_Exoneracao_Comissionado': 2,\n",
              " 'Ato_Exoneracao_Efetivo': 9,\n",
              " 'Ato_Nomeacao_Comissionado': 1,\n",
              " 'Ato_Nomeacao_Efetivo': 7,\n",
              " 'Ato_Retificacao_Comissionado': 10,\n",
              " 'Ato_Retificacao_Efetivo': 6,\n",
              " 'Ato_Reversao': 0,\n",
              " 'Ato_Substituicao': 4,\n",
              " 'Ato_Tornado_Sem_Efeito_Apo': 11,\n",
              " 'Ato_Tornado_Sem_Efeito_Exo_Nom': 3}"
            ]
          },
          "metadata": {},
          "execution_count": 4
        }
      ]
    },
    {
      "cell_type": "code",
      "metadata": {
        "colab": {
          "base_uri": "https://localhost:8080/"
        },
        "id": "ngQs_VdlIPLZ",
        "outputId": "2f9b618d-11bc-4c4e-bbdb-0b5abf25c228"
      },
      "source": [
        "df_atos['label_int'] = df_atos['tipo_ent'].replace(labels_unique_dict)"
      ],
      "execution_count": 5,
      "outputs": [
        {
          "output_type": "stream",
          "text": [
            "/usr/local/lib/python3.7/dist-packages/ipykernel_launcher.py:1: SettingWithCopyWarning: \n",
            "A value is trying to be set on a copy of a slice from a DataFrame.\n",
            "Try using .loc[row_indexer,col_indexer] = value instead\n",
            "\n",
            "See the caveats in the documentation: https://pandas.pydata.org/pandas-docs/stable/user_guide/indexing.html#returning-a-view-versus-a-copy\n",
            "  \"\"\"Entry point for launching an IPython kernel.\n"
          ],
          "name": "stderr"
        }
      ]
    },
    {
      "cell_type": "markdown",
      "metadata": {
        "id": "2u_xs-U1V3yR"
      },
      "source": [
        "Aqui entidades numéricas, capitalização e pontuação podem ser importantes. Por isso, não iremos fazer a etapa de pré-processamento que normalmente é feita."
      ]
    },
    {
      "cell_type": "markdown",
      "metadata": {
        "id": "FkRq_q1iHrNc"
      },
      "source": [
        "### LSTM"
      ]
    },
    {
      "cell_type": "code",
      "metadata": {
        "id": "8fP5QTY7cTpi"
      },
      "source": [
        "import tensorflow as tf\n",
        "from tensorflow.keras.preprocessing.text import Tokenizer\n",
        "from tensorflow.keras.preprocessing.sequence import pad_sequences\n",
        "from tensorflow.keras.models import Sequential\n",
        "from tensorflow.keras.layers import Dense, Flatten, LSTM, Dropout, Activation, Embedding, Bidirectional"
      ],
      "execution_count": 6,
      "outputs": []
    },
    {
      "cell_type": "markdown",
      "metadata": {
        "id": "5QDv8usCHrNe"
      },
      "source": [
        "#### Train Test Split"
      ]
    },
    {
      "cell_type": "markdown",
      "metadata": {
        "id": "I0e8ICGzHXjO"
      },
      "source": [
        "O split será estratificado em relação aos labels."
      ]
    },
    {
      "cell_type": "code",
      "metadata": {
        "id": "9t6KE_MQHrNe"
      },
      "source": [
        "from sklearn.model_selection import train_test_split\n",
        "\n",
        "X_train, X_test, y_train, y_test = train_test_split(df_atos['texto'], df_atos['label_int'], test_size=0.25, random_state=14, stratify=df_atos['label_int'])"
      ],
      "execution_count": 7,
      "outputs": []
    },
    {
      "cell_type": "markdown",
      "metadata": {
        "id": "QfA38IzaHrNf"
      },
      "source": [
        "Os modelos da API do Keras requerem como entrada tensores ou arrays numpy."
      ]
    },
    {
      "cell_type": "code",
      "metadata": {
        "id": "1X1IK2YHHrNf"
      },
      "source": [
        "train_labels = np.array(y_train)\n",
        "test_labels = np.array(y_test)"
      ],
      "execution_count": 8,
      "outputs": []
    },
    {
      "cell_type": "code",
      "metadata": {
        "colab": {
          "base_uri": "https://localhost:8080/"
        },
        "id": "SiQ7SOCCHrNf",
        "outputId": "8a9e17cf-a486-4fd4-90f1-85da735d09c6"
      },
      "source": [
        "train_labels.shape"
      ],
      "execution_count": 9,
      "outputs": [
        {
          "output_type": "execute_result",
          "data": {
            "text/plain": [
              "(1696,)"
            ]
          },
          "metadata": {},
          "execution_count": 9
        }
      ]
    },
    {
      "cell_type": "code",
      "metadata": {
        "colab": {
          "base_uri": "https://localhost:8080/"
        },
        "id": "K2gYjkp5HrNf",
        "outputId": "a935a332-a85d-40da-9acf-8a03b43dd316"
      },
      "source": [
        "len(X_train), len(X_test)"
      ],
      "execution_count": 10,
      "outputs": [
        {
          "output_type": "execute_result",
          "data": {
            "text/plain": [
              "(1696, 566)"
            ]
          },
          "metadata": {},
          "execution_count": 10
        }
      ]
    },
    {
      "cell_type": "markdown",
      "metadata": {
        "id": "lxy-RMT0HrNf"
      },
      "source": [
        "#### Modificando os dados de treino e teste com o padrão requerido pelo Keras"
      ]
    },
    {
      "cell_type": "code",
      "metadata": {
        "colab": {
          "base_uri": "https://localhost:8080/"
        },
        "id": "oyEqXOGnHrNg",
        "outputId": "22653fc0-4cfc-48c3-82a6-e9d7132b8e67"
      },
      "source": [
        "soma = 0\n",
        "\n",
        "for item in df_atos['texto']:\n",
        "  soma += len(item)\n",
        "media = soma/len(df_atos['texto'])\n",
        "print(f'Em média, cada ato de pessoal tem {media} palavras.')"
      ],
      "execution_count": 11,
      "outputs": [
        {
          "output_type": "stream",
          "text": [
            "Em média, cada ato de pessoal tem 353.0344827586207 palavras.\n"
          ],
          "name": "stdout"
        }
      ]
    },
    {
      "cell_type": "markdown",
      "metadata": {
        "id": "ASP8I3mOHrNg"
      },
      "source": [
        "Aqui definimos algumas constantes usadas a seguir. `vocab_size` se refere à quantidade de palavras que serão levadas em consideração durante o treinamento; `embedding_dim` se refere à quantidade de neurônios da camada de embedding da nossa rede recorrente; `max_length` é a quantidade máxima de palavras usadas para as instâncias de treinamento. Vamos setar um valor menor que a média de palavras por ato. `trunc_type` e `padding_type` se referem ao método de pré-processamento `pad_sequences`; o primeiro define se o pad é feito antes ou depois de cada sequência de textos, o segundo remove valores maiores que o max_length setado. Por fim, `oov_tok` é o padrão adotado para palavras desconhecidas."
      ]
    },
    {
      "cell_type": "code",
      "metadata": {
        "id": "0eoVdsdTHrNg"
      },
      "source": [
        "vocab_size = 1000 # make the top list of words (common words)\n",
        "embedding_dim = 64\n",
        "max_length = 64\n",
        "trunc_type = 'post'\n",
        "padding_type = 'post'\n",
        "oov_tok = '<OOV>' # OOV = Out of Vocabulary"
      ],
      "execution_count": 12,
      "outputs": []
    },
    {
      "cell_type": "markdown",
      "metadata": {
        "id": "j5pMXXBxHrNh"
      },
      "source": [
        "O método `fit_on_texts` do objeto `Tokenizer` mapeia cada palavra única com um inteiro."
      ]
    },
    {
      "cell_type": "code",
      "metadata": {
        "id": "OxR0bsBoHrNh"
      },
      "source": [
        "tokenizer = Tokenizer(num_words = vocab_size, oov_token=oov_tok)\n",
        "tokenizer.fit_on_texts(X_train)"
      ],
      "execution_count": 13,
      "outputs": []
    },
    {
      "cell_type": "markdown",
      "metadata": {
        "id": "U4qYddmFHrNh"
      },
      "source": [
        "A propriedade `word_index` mostra o índice de cada palavra processada. Com ela também podemos ver o tamanho do nosso vocabulário:"
      ]
    },
    {
      "cell_type": "code",
      "metadata": {
        "id": "ZDA0r_GCHrNh"
      },
      "source": [
        "word_index = tokenizer.word_index"
      ],
      "execution_count": 14,
      "outputs": []
    },
    {
      "cell_type": "code",
      "metadata": {
        "colab": {
          "base_uri": "https://localhost:8080/"
        },
        "id": "V6-LLZJjHrNh",
        "outputId": "6abe2aa8-e665-4226-b05a-4e79dae152c8"
      },
      "source": [
        "len(word_index)"
      ],
      "execution_count": 15,
      "outputs": [
        {
          "output_type": "execute_result",
          "data": {
            "text/plain": [
              "4574"
            ]
          },
          "metadata": {},
          "execution_count": 15
        }
      ]
    },
    {
      "cell_type": "code",
      "metadata": {
        "colab": {
          "base_uri": "https://localhost:8080/"
        },
        "id": "Oy7YSlW6HrNk",
        "outputId": "fdaaa222-0205-4a28-de8a-f5efdecec659"
      },
      "source": [
        "word_index"
      ],
      "execution_count": 16,
      "outputs": [
        {
          "output_type": "execute_result",
          "data": {
            "text/plain": [
              "{'<OOV>': 1,\n",
              " 'de': 2,\n",
              " 'da': 3,\n",
              " 'do': 4,\n",
              " 'no': 5,\n",
              " 'a': 6,\n",
              " 'cargo': 7,\n",
              " 'federal': 8,\n",
              " 'distrito': 9,\n",
              " 'o': 10,\n",
              " 'para': 11,\n",
              " 'simbolo': 12,\n",
              " 'e': 13,\n",
              " 'em': 14,\n",
              " 'matricula': 15,\n",
              " 'secretaria': 16,\n",
              " 'estado': 17,\n",
              " '2013': 18,\n",
              " 'comissao': 19,\n",
              " 'saude': 20,\n",
              " 'exercer': 21,\n",
              " 'se': 22,\n",
              " 'diretoria': 23,\n",
              " 'nomear': 24,\n",
              " 'subsecretaria': 25,\n",
              " 'por': 26,\n",
              " 'dodf': 27,\n",
              " 'gerencia': 28,\n",
              " 'administracao': 29,\n",
              " '07': 30,\n",
              " 'que': 31,\n",
              " 'dfa': 32,\n",
              " 'na': 33,\n",
              " 'exonerar': 34,\n",
              " 'pagina': 35,\n",
              " 'assessor': 36,\n",
              " 'dfg': 37,\n",
              " 'geral': 38,\n",
              " 'regional': 39,\n",
              " '06': 40,\n",
              " '12': 41,\n",
              " 'especial': 42,\n",
              " '14': 43,\n",
              " 'civil': 44,\n",
              " '1': 45,\n",
              " '05': 46,\n",
              " 'coordenadoria': 47,\n",
              " '10': 48,\n",
              " 'silva': 49,\n",
              " '11': 50,\n",
              " 'casa': 51,\n",
              " 'ato': 52,\n",
              " 'le': 53,\n",
              " 'onde': 54,\n",
              " 'leia': 55,\n",
              " 'governadoria': 56,\n",
              " 'das': 57,\n",
              " 'tecnico': 58,\n",
              " 'com': 59,\n",
              " 'cne': 60,\n",
              " 'quinquenio': 61,\n",
              " 'decreto': 62,\n",
              " 'cidades': 63,\n",
              " 'coordenacao': 64,\n",
              " '08': 65,\n",
              " '04': 66,\n",
              " '09': 67,\n",
              " 'publicada': 68,\n",
              " 'lei': 69,\n",
              " 'natureza': 70,\n",
              " 'chefe': 71,\n",
              " 'maria': 72,\n",
              " '01': 73,\n",
              " '03': 74,\n",
              " 'publicado': 75,\n",
              " 'sem': 76,\n",
              " 'licenca': 77,\n",
              " 'servico': 78,\n",
              " 'nucleo': 79,\n",
              " 'premio': 80,\n",
              " '02': 81,\n",
              " 'ordem': 82,\n",
              " 'efeito': 83,\n",
              " 'concedeu': 84,\n",
              " 'nos': 85,\n",
              " 'tornar': 86,\n",
              " 'setembro': 87,\n",
              " 'artigo': 88,\n",
              " 'termos': 89,\n",
              " 'contar': 90,\n",
              " 'outro': 91,\n",
              " 'i': 92,\n",
              " 'processo': 93,\n",
              " '1o': 94,\n",
              " 'dos': 95,\n",
              " 'estar': 96,\n",
              " 'sendo': 97,\n",
              " 'assiduidade': 98,\n",
              " '2014': 99,\n",
              " 'gerente': 100,\n",
              " 'pedido': 101,\n",
              " '2012': 102,\n",
              " 'nomeou': 103,\n",
              " 'gestao': 104,\n",
              " 'atencao': 105,\n",
              " '5': 106,\n",
              " 'oliveira': 107,\n",
              " 'complementar': 108,\n",
              " '2008': 109,\n",
              " '13': 110,\n",
              " 'santos': 111,\n",
              " '2': 112,\n",
              " '16': 113,\n",
              " '23': 114,\n",
              " 'ao': 115,\n",
              " 'conforme': 116,\n",
              " '17': 117,\n",
              " 'desenvolvimento': 118,\n",
              " 'social': 119,\n",
              " 'pessoal': 120,\n",
              " '22': 121,\n",
              " 'protecao': 122,\n",
              " '3': 123,\n",
              " 'educacao': 124,\n",
              " 'periodo': 125,\n",
              " 'agosto': 126,\n",
              " 'gabinete': 127,\n",
              " 'publica': 128,\n",
              " 'quadro': 129,\n",
              " 'assessoria': 130,\n",
              " '840': 131,\n",
              " '7': 132,\n",
              " 'apoio': 133,\n",
              " 'obras': 134,\n",
              " 'atendimento': 135,\n",
              " 'carreira': 136,\n",
              " 'administrativo': 137,\n",
              " 'classe': 138,\n",
              " 'base': 139,\n",
              " '24': 140,\n",
              " '21': 141,\n",
              " 'julho': 142,\n",
              " '0': 143,\n",
              " '30': 144,\n",
              " '15': 145,\n",
              " '2003': 146,\n",
              " 'padrao': 147,\n",
              " '3o': 148,\n",
              " 'nomeado': 149,\n",
              " 'planejamento': 150,\n",
              " 'outubro': 151,\n",
              " '18': 152,\n",
              " '2o': 153,\n",
              " 'militar': 154,\n",
              " 'motivo': 155,\n",
              " '6': 156,\n",
              " 'servicos': 157,\n",
              " '4': 158,\n",
              " '2011': 159,\n",
              " 'inciso': 160,\n",
              " '20': 161,\n",
              " 'pereira': 162,\n",
              " '50': 163,\n",
              " 'souza': 164,\n",
              " '28': 165,\n",
              " 'substituir': 166,\n",
              " '19': 167,\n",
              " 'designar': 168,\n",
              " '8': 169,\n",
              " 'diretor': 170,\n",
              " 'defesa': 171,\n",
              " '27': 172,\n",
              " '29': 173,\n",
              " '25': 174,\n",
              " 'cadastro': 175,\n",
              " '4o': 176,\n",
              " 'assistente': 177,\n",
              " 'alves': 178,\n",
              " 'ferias': 179,\n",
              " '51': 180,\n",
              " 'lotacao': 181,\n",
              " 'registro': 182,\n",
              " 'assistencia': 183,\n",
              " '26': 184,\n",
              " 'referido': 185,\n",
              " 'jose': 186,\n",
              " '2002': 187,\n",
              " '9': 188,\n",
              " 'vago': 189,\n",
              " 'declarando': 190,\n",
              " 'junho': 191,\n",
              " 'rodrigues': 192,\n",
              " 'santa': 193,\n",
              " '2007': 194,\n",
              " 'supramencionada': 195,\n",
              " 'nomeada': 196,\n",
              " 'unidade': 197,\n",
              " 'medica': 198,\n",
              " 'governo': 199,\n",
              " 'dias': 200,\n",
              " 'costa': 201,\n",
              " 'titular': 202,\n",
              " 'x': 203,\n",
              " 'seguranca': 204,\n",
              " '2009': 205,\n",
              " '31': 206,\n",
              " 'humanos': 207,\n",
              " '1997': 208,\n",
              " '5o': 209,\n",
              " '3a': 210,\n",
              " 'caput': 211,\n",
              " 'araujo': 212,\n",
              " 'central': 213,\n",
              " 'ferreira': 214,\n",
              " 'policia': 215,\n",
              " 'enfermagem': 216,\n",
              " 'dezembro': 217,\n",
              " 'crianca': 218,\n",
              " '1992': 219,\n",
              " '2010': 220,\n",
              " '2000': 221,\n",
              " 'art': 222,\n",
              " 'ii': 223,\n",
              " 'exonerou': 224,\n",
              " 'secretario': 225,\n",
              " 'compras': 226,\n",
              " 'maio': 227,\n",
              " 'controle': 228,\n",
              " '1998': 229,\n",
              " 'pagamento': 230,\n",
              " 'janeiro': 231,\n",
              " 'direitos': 232,\n",
              " 'assuntos': 233,\n",
              " 'portaria': 234,\n",
              " '1993': 235,\n",
              " 'pessoas': 236,\n",
              " 'lima': 237,\n",
              " 'carlos': 238,\n",
              " 'carvalho': 239,\n",
              " 'lotada': 240,\n",
              " '1999': 241,\n",
              " 'francisco': 242,\n",
              " 'servidor': 243,\n",
              " 'centro': 244,\n",
              " 'agente': 245,\n",
              " 'cessao': 246,\n",
              " 'gomes': 247,\n",
              " 'encarregado': 248,\n",
              " 'nascimento': 249,\n",
              " '2006': 250,\n",
              " 'projetos': 251,\n",
              " 'comunicacao': 252,\n",
              " 'sousa': 253,\n",
              " 'n': 254,\n",
              " 'martins': 255,\n",
              " 'regularizacao': 256,\n",
              " '2004': 257,\n",
              " '1994': 258,\n",
              " 'novembro': 259,\n",
              " 'samambaia': 260,\n",
              " 'planaltina': 261,\n",
              " 'institucional': 262,\n",
              " 'execucao': 263,\n",
              " 'suprimentos': 264,\n",
              " '1995': 265,\n",
              " 'justica': 266,\n",
              " 'operacional': 267,\n",
              " 'auxiliar': 268,\n",
              " 'economia': 269,\n",
              " 'solidaria': 270,\n",
              " '2001': 271,\n",
              " 'sistema': 272,\n",
              " 'comunitaria': 273,\n",
              " 'orcamento': 274,\n",
              " 'as': 275,\n",
              " 'regulamentares': 276,\n",
              " 'cidadania': 277,\n",
              " 'ceilandia': 278,\n",
              " 'medico': 279,\n",
              " 'comando': 280,\n",
              " 'urbano': 281,\n",
              " 'recursos': 282,\n",
              " 'abril': 283,\n",
              " 'supervisor': 284,\n",
              " 'norte': 285,\n",
              " 'ribeiro': 286,\n",
              " 'sim': 287,\n",
              " 'bolo': 288,\n",
              " 'manutencao': 289,\n",
              " 'rocha': 290,\n",
              " 'hospital': 291,\n",
              " 'coordenador': 292,\n",
              " 'habitacao': 293,\n",
              " 'barbosa': 294,\n",
              " 'financas': 295,\n",
              " 'politicas': 296,\n",
              " 'lopes': 297,\n",
              " '200': 298,\n",
              " 'ter': 299,\n",
              " 'economico': 300,\n",
              " 'orgao': 301,\n",
              " 'micro': 302,\n",
              " 'pequena': 303,\n",
              " 'empresa': 304,\n",
              " 'estrategicos': 305,\n",
              " 'df': 306,\n",
              " '2005': 307,\n",
              " 'sao': 308,\n",
              " 'asa': 309,\n",
              " 'qq': 310,\n",
              " 'consumidor': 311,\n",
              " 'tecnologia': 312,\n",
              " 'socioeducativo': 313,\n",
              " 'fiscalizacao': 314,\n",
              " 'lotado': 315,\n",
              " 'informacao': 316,\n",
              " 'copa': 317,\n",
              " 'administrativa': 318,\n",
              " 'os': 319,\n",
              " 'marco': 320,\n",
              " '1996': 321,\n",
              " 'reparos': 322,\n",
              " 'conservacao': 323,\n",
              " 'procuradoria': 324,\n",
              " 'pelo': 325,\n",
              " 'departamento': 326,\n",
              " 'fundo': 327,\n",
              " 'ana': 328,\n",
              " 'instituto': 329,\n",
              " 'gama': 330,\n",
              " 'aposentadoria': 331,\n",
              " 'acompanhamento': 332,\n",
              " 'operacoes': 333,\n",
              " 'junior': 334,\n",
              " 'meio': 335,\n",
              " '6o': 336,\n",
              " 'abastecimento': 337,\n",
              " 'juridico': 338,\n",
              " 'nunes': 339,\n",
              " 'antonio': 340,\n",
              " 'rede': 341,\n",
              " 'aparecida': 342,\n",
              " 'cultura': 343,\n",
              " 'goncalves': 344,\n",
              " 'brasilia': 345,\n",
              " 'articulacao': 346,\n",
              " 'setor': 347,\n",
              " 'industria': 348,\n",
              " 'soares': 349,\n",
              " '1983': 350,\n",
              " '000': 351,\n",
              " 'ambiente': 352,\n",
              " 'analista': 353,\n",
              " 'taguatinga': 354,\n",
              " 'paulo': 355,\n",
              " 'siape': 356,\n",
              " '1987': 357,\n",
              " 'interesse': 358,\n",
              " 'tempo': 359,\n",
              " 'elaboracao': 360,\n",
              " 'queiroz': 361,\n",
              " 'almeida': 362,\n",
              " '81': 363,\n",
              " 'renda': 364,\n",
              " 'marcos': 365,\n",
              " 'qopm': 366,\n",
              " 'sobradinho': 367,\n",
              " '1991': 368,\n",
              " 'partir': 369,\n",
              " 'professor': 370,\n",
              " 'transferencia': 371,\n",
              " 'castro': 372,\n",
              " '118': 373,\n",
              " 'trabalho': 374,\n",
              " 'ma': 375,\n",
              " 'andrade': 376,\n",
              " 'pires': 377,\n",
              " 'fernandes': 378,\n",
              " 'clinica': 379,\n",
              " 'modernizacao': 380,\n",
              " 'ou': 381,\n",
              " 'conceder': 382,\n",
              " 'qobm': 383,\n",
              " 'bombeiros': 384,\n",
              " '060': 385,\n",
              " '061': 386,\n",
              " 'sul': 387,\n",
              " 'melo': 388,\n",
              " '001': 389,\n",
              " 'refere': 390,\n",
              " 'campos': 391,\n",
              " 'instrucao': 392,\n",
              " 'licenciamento': 393,\n",
              " 'lago': 394,\n",
              " 'vieira': 395,\n",
              " 'cristina': 396,\n",
              " 'jorge': 397,\n",
              " 'extraordinaria': 398,\n",
              " 'vasconcelos': 399,\n",
              " 'co': 400,\n",
              " 'interessado': 401,\n",
              " '41': 402,\n",
              " 'atividades': 403,\n",
              " '42': 404,\n",
              " 'primaria': 405,\n",
              " 'luiz': 406,\n",
              " '43': 407,\n",
              " 'tecnica': 408,\n",
              " '036': 409,\n",
              " 'cidadao': 410,\n",
              " 'assunto': 411,\n",
              " 'autorizo': 412,\n",
              " 'publicos': 413,\n",
              " 'superintendencia': 414,\n",
              " 'servidora': 415,\n",
              " 'item': 416,\n",
              " 'teixeira': 417,\n",
              " 'fundacao': 418,\n",
              " 'cruz': 419,\n",
              " 'enfermeira': 420,\n",
              " 'publicidade': 421,\n",
              " 'procon': 422,\n",
              " 'vicente': 423,\n",
              " 'conselho': 424,\n",
              " 'borges': 425,\n",
              " 'riacho': 426,\n",
              " '171': 427,\n",
              " 'publicas': 428,\n",
              " 'contratos': 429,\n",
              " 'bezerra': 430,\n",
              " 'cunha': 431,\n",
              " 'publique': 432,\n",
              " 'encaminhe': 433,\n",
              " 'duarte': 434,\n",
              " '777': 435,\n",
              " 'joao': 436,\n",
              " 'guimaraes': 437,\n",
              " 'corpo': 438,\n",
              " 'sebastiao': 439,\n",
              " '052': 440,\n",
              " 'santana': 441,\n",
              " 'dados': 442,\n",
              " '174': 443,\n",
              " 'brito': 444,\n",
              " 'regina': 445,\n",
              " '44': 446,\n",
              " '58': 447,\n",
              " '1988': 448,\n",
              " 'hora': 449,\n",
              " 'marcia': 450,\n",
              " 'combinado': 451,\n",
              " 'urbana': 452,\n",
              " 'financeira': 453,\n",
              " 'r': 454,\n",
              " 'batista': 455,\n",
              " '1990': 456,\n",
              " '1989': 457,\n",
              " 'pedro': 458,\n",
              " 'henrique': 459,\n",
              " 'logistica': 460,\n",
              " 'educacional': 461,\n",
              " 'vigilancia': 462,\n",
              " '32': 463,\n",
              " 'marques': 464,\n",
              " 'qualidade': 465,\n",
              " 'onus': 466,\n",
              " 'origem': 467,\n",
              " '153': 468,\n",
              " '79': 469,\n",
              " 'promocao': 470,\n",
              " 'agencia': 471,\n",
              " 'demais': 472,\n",
              " '88': 473,\n",
              " '46': 474,\n",
              " 'pinto': 475,\n",
              " 'divisao': 476,\n",
              " '35': 477,\n",
              " '57': 478,\n",
              " 'externo': 479,\n",
              " '260': 480,\n",
              " 'coorde': 481,\n",
              " 'azevedo': 482,\n",
              " 'permanente': 483,\n",
              " 'acordo': 484,\n",
              " 'sergio': 485,\n",
              " 'patrimonio': 486,\n",
              " 'moreira': 487,\n",
              " 'aprovacao': 488,\n",
              " 'referente': 489,\n",
              " 'ensino': 490,\n",
              " 'fonseca': 491,\n",
              " 'governamental': 492,\n",
              " 'missao': 493,\n",
              " 'limpeza': 494,\n",
              " 'pela': 495,\n",
              " 'ratificando': 496,\n",
              " 'eduardo': 497,\n",
              " 'leste': 498,\n",
              " 'funcional': 499,\n",
              " 'fazendario': 500,\n",
              " 'filho': 501,\n",
              " 'roberto': 502,\n",
              " 'violencia': 503,\n",
              " 'pinheiro': 504,\n",
              " 'gratificacao': 505,\n",
              " 'publico': 506,\n",
              " 'edital': 507,\n",
              " 'ricardo': 508,\n",
              " 'esporte': 509,\n",
              " '1985': 510,\n",
              " 'vencimento': 511,\n",
              " 'barros': 512,\n",
              " 'suas': 513,\n",
              " 'ocupante': 514,\n",
              " '435': 515,\n",
              " '1986': 516,\n",
              " '80': 517,\n",
              " 'trabalhador': 518,\n",
              " 'jardim': 519,\n",
              " 'botanico': 520,\n",
              " 'fins': 521,\n",
              " 'iii': 522,\n",
              " 'subcomando': 523,\n",
              " 'tc': 524,\n",
              " 'abreu': 525,\n",
              " 'paiva': 526,\n",
              " '270': 527,\n",
              " 'tricula': 528,\n",
              " '63': 529,\n",
              " '198': 530,\n",
              " 'moura': 531,\n",
              " '74': 532,\n",
              " 'adminis': 533,\n",
              " '219': 534,\n",
              " 'lucia': 535,\n",
              " 'territorial': 536,\n",
              " 'sido': 537,\n",
              " 'basica': 538,\n",
              " '441': 539,\n",
              " 'legislativa': 540,\n",
              " 'fatima': 541,\n",
              " 'imediato': 542,\n",
              " '99': 543,\n",
              " '994': 544,\n",
              " 'pertinentes': 545,\n",
              " '159': 546,\n",
              " 'edson': 547,\n",
              " 'correia': 548,\n",
              " 'cel': 549,\n",
              " 'resolve': 550,\n",
              " 'gdf': 551,\n",
              " 'maj': 552,\n",
              " 'bem': 553,\n",
              " '007': 554,\n",
              " 'reverter': 555,\n",
              " 'mendonca': 556,\n",
              " 'comb': 557,\n",
              " 'c': 558,\n",
              " 'v': 559,\n",
              " 'tutelar': 560,\n",
              " 'material': 561,\n",
              " '54': 562,\n",
              " '139': 563,\n",
              " 'contas': 564,\n",
              " 'fomento': 565,\n",
              " 'hidricos': 566,\n",
              " 'ordenamento': 567,\n",
              " 'pregao': 568,\n",
              " '199': 569,\n",
              " 'park': 570,\n",
              " 'way': 571,\n",
              " 'mendes': 572,\n",
              " '152': 573,\n",
              " 'providencias': 574,\n",
              " 'sustentavel': 575,\n",
              " '745': 576,\n",
              " 'fazenda': 577,\n",
              " 'sub': 578,\n",
              " 'fevereiro': 579,\n",
              " '128': 580,\n",
              " 'brazlandia': 581,\n",
              " 'sales': 582,\n",
              " 'vitimas': 583,\n",
              " 'paranoa': 584,\n",
              " 'enfermeiro': 585,\n",
              " 'carneiro': 586,\n",
              " 'como': 587,\n",
              " '131': 588,\n",
              " 'adjunto': 589,\n",
              " 'militares': 590,\n",
              " 'pregoeiro': 591,\n",
              " 'nadoria': 592,\n",
              " '71': 593,\n",
              " 'data': 594,\n",
              " 'pag': 595,\n",
              " 'sigrh': 596,\n",
              " 'tracao': 597,\n",
              " '263': 598,\n",
              " 'leite': 599,\n",
              " 'acumular': 600,\n",
              " 'orientacao': 601,\n",
              " 'beltides': 602,\n",
              " 'legislativos': 603,\n",
              " 'especialista': 604,\n",
              " '123': 605,\n",
              " '125': 606,\n",
              " 'foi': 607,\n",
              " 'sa': 608,\n",
              " '37': 609,\n",
              " 'preceitua': 610,\n",
              " '172': 611,\n",
              " 'infraestrutura': 612,\n",
              " '192': 613,\n",
              " 'secao': 614,\n",
              " 'dutra': 615,\n",
              " '113': 616,\n",
              " 'escola': 617,\n",
              " '440': 618,\n",
              " 'gmsi': 619,\n",
              " '443': 620,\n",
              " '64': 621,\n",
              " 'moraes': 622,\n",
              " 'final': 623,\n",
              " '143': 624,\n",
              " 'siqueira': 625,\n",
              " '65': 626,\n",
              " 'cesar': 627,\n",
              " 'desen': 628,\n",
              " 'volvimento': 629,\n",
              " 'feiras': 630,\n",
              " '182': 631,\n",
              " '002': 632,\n",
              " 'abono': 633,\n",
              " 'taria': 634,\n",
              " 'grau': 635,\n",
              " 'rural': 636,\n",
              " 'solo': 637,\n",
              " '149': 638,\n",
              " 'reis': 639,\n",
              " 'prejuizo': 640,\n",
              " '656': 641,\n",
              " 'morais': 642,\n",
              " 'farmaceutico': 643,\n",
              " 'luciano': 644,\n",
              " 'admi': 645,\n",
              " 'publi': 646,\n",
              " '203': 647,\n",
              " 'alterado': 648,\n",
              " '221': 649,\n",
              " 'meses': 650,\n",
              " 'procedimentos': 651,\n",
              " 'candangolandia': 652,\n",
              " '40': 653,\n",
              " '134': 654,\n",
              " 'aline': 655,\n",
              " '130': 656,\n",
              " 'extincao': 657,\n",
              " 'aos': 658,\n",
              " 'andre': 659,\n",
              " 'cardoso': 660,\n",
              " 'helena': 661,\n",
              " 'permanencia': 662,\n",
              " 'prestacao': 663,\n",
              " 'cia': 664,\n",
              " '119': 665,\n",
              " 'sobre': 666,\n",
              " 'comunidade': 667,\n",
              " '436': 668,\n",
              " 'suplemento': 669,\n",
              " '285': 670,\n",
              " 'p': 671,\n",
              " 'comis': 672,\n",
              " '127': 673,\n",
              " 'atribuicoes': 674,\n",
              " 'fiscal': 675,\n",
              " 'iv': 676,\n",
              " 'conformidade': 677,\n",
              " 'termina': 678,\n",
              " 'exoneracao': 679,\n",
              " 'qual': 680,\n",
              " 'cedido': 681,\n",
              " 'revogacao': 682,\n",
              " 'autoridade': 683,\n",
              " 'cedente': 684,\n",
              " '271': 685,\n",
              " '158': 686,\n",
              " 'correa': 687,\n",
              " 'coelho': 688,\n",
              " '179': 689,\n",
              " 'qppmc': 690,\n",
              " 'inicial': 691,\n",
              " 'despacho': 692,\n",
              " 'raimundo': 693,\n",
              " 'rogerio': 694,\n",
              " 'claudia': 695,\n",
              " '438': 696,\n",
              " '39': 697,\n",
              " 'pesquisa': 698,\n",
              " 'posse': 699,\n",
              " 'torres': 700,\n",
              " 'conselheiro': 701,\n",
              " 'cada': 702,\n",
              " 'freitas': 703,\n",
              " 'ten': 704,\n",
              " '83': 705,\n",
              " 'fernando': 706,\n",
              " '207': 707,\n",
              " 'servidores': 708,\n",
              " 'auxiliares': 709,\n",
              " 'nucleos': 710,\n",
              " 'referencia': 711,\n",
              " 'fernanda': 712,\n",
              " 'aosd': 713,\n",
              " 'aguiar': 714,\n",
              " '470': 715,\n",
              " '279': 716,\n",
              " 'daniel': 717,\n",
              " 'motorista': 718,\n",
              " 'aplicado': 719,\n",
              " '262': 720,\n",
              " 'nogueira': 721,\n",
              " 'convenios': 722,\n",
              " '209': 723,\n",
              " '651': 724,\n",
              " 'analise': 725,\n",
              " 'thiago': 726,\n",
              " '60': 727,\n",
              " 'internacao': 728,\n",
              " 'midias': 729,\n",
              " 'suporte': 730,\n",
              " 'padronizacao': 731,\n",
              " 'farmacia': 732,\n",
              " 'regiao': 733,\n",
              " 'incisos': 734,\n",
              " '439': 735,\n",
              " 'entorno': 736,\n",
              " 'laboratorio': 737,\n",
              " 'guara': 738,\n",
              " 'diego': 739,\n",
              " 'fundos': 740,\n",
              " 'joaquim': 741,\n",
              " 'comandante': 742,\n",
              " 'patricia': 743,\n",
              " 'farmaceutica': 744,\n",
              " '655': 745,\n",
              " 'paula': 746,\n",
              " 'chagas': 747,\n",
              " 'claudio': 748,\n",
              " 'emergencia': 749,\n",
              " 'augusto': 750,\n",
              " '55': 751,\n",
              " '100': 752,\n",
              " 'avaliacao': 753,\n",
              " 'conceicao': 754,\n",
              " 'inss': 755,\n",
              " 'eventos': 756,\n",
              " 'resultado': 757,\n",
              " 'classificacao': 758,\n",
              " '070': 759,\n",
              " '78': 760,\n",
              " '1984': 761,\n",
              " 'fabio': 762,\n",
              " 'autorizou': 763,\n",
              " 'alberto': 764,\n",
              " 'luciana': 765,\n",
              " 'viana': 766,\n",
              " 'averbou': 767,\n",
              " 'matri': 768,\n",
              " 'cula': 769,\n",
              " 'seja': 770,\n",
              " 'farias': 771,\n",
              " 'politica': 772,\n",
              " 'profissionais': 773,\n",
              " 'xavier': 774,\n",
              " '62': 775,\n",
              " '184': 776,\n",
              " 'medeiros': 777,\n",
              " '56': 778,\n",
              " '66': 779,\n",
              " 'unica': 780,\n",
              " 'qbmg': 781,\n",
              " 'etapa': 782,\n",
              " 'penitenciario': 783,\n",
              " 'exame': 784,\n",
              " 'gustavo': 785,\n",
              " 'silveira': 786,\n",
              " '145': 787,\n",
              " 'neres': 788,\n",
              " 'rezende': 789,\n",
              " 'oficial': 790,\n",
              " 'cgs': 791,\n",
              " 'instituicao': 792,\n",
              " 'dfie': 793,\n",
              " '210': 794,\n",
              " 'ramos': 795,\n",
              " 'familia': 796,\n",
              " 'baptista': 797,\n",
              " 'acoes': 798,\n",
              " 'jesus': 799,\n",
              " '658': 800,\n",
              " 'franca': 801,\n",
              " 'area': 802,\n",
              " 'novas': 803,\n",
              " 'agua': 804,\n",
              " 'sociais': 805,\n",
              " 'socorro': 806,\n",
              " 'debora': 807,\n",
              " 'bioquimico': 808,\n",
              " 'cessionario': 809,\n",
              " 'mediante': 810,\n",
              " '68': 811,\n",
              " 'educacionais': 812,\n",
              " 'concessao': 813,\n",
              " '102': 814,\n",
              " '82': 815,\n",
              " 'gabriela': 816,\n",
              " '205': 817,\n",
              " 'especialidade': 818,\n",
              " 'guilherme': 819,\n",
              " 'coordena': 820,\n",
              " '93': 821,\n",
              " 'rodoviarias': 822,\n",
              " 'normas': 823,\n",
              " 'policiamento': 824,\n",
              " 'nistracao': 825,\n",
              " '275': 826,\n",
              " 'so': 827,\n",
              " 'guedes': 828,\n",
              " 'quiosques': 829,\n",
              " 'francisca': 830,\n",
              " 'cristiane': 831,\n",
              " 'sgt': 832,\n",
              " '406': 833,\n",
              " 'nao': 834,\n",
              " 'aguas': 835,\n",
              " 'abaixo': 836,\n",
              " 'concurso': 837,\n",
              " 'atendente': 838,\n",
              " 'nome': 839,\n",
              " '653': 840,\n",
              " 'sandra': 841,\n",
              " 'lazer': 842,\n",
              " 'matos': 843,\n",
              " 'alexandre': 844,\n",
              " '33': 845,\n",
              " 'auditor': 846,\n",
              " 'respectivo': 847,\n",
              " 'transparencia': 848,\n",
              " 'agricultura': 849,\n",
              " 'conselhos': 850,\n",
              " 'adolescente': 851,\n",
              " 'periodos': 852,\n",
              " 'subsecretario': 853,\n",
              " 'licitacoes': 854,\n",
              " 'modesto': 855,\n",
              " '434': 856,\n",
              " 'cruzeiro': 857,\n",
              " 'licitatorios': 858,\n",
              " 'monteiro': 859,\n",
              " 'coor': 860,\n",
              " 'vale': 861,\n",
              " 'braga': 862,\n",
              " 'contados': 863,\n",
              " 'motta': 864,\n",
              " 'camila': 865,\n",
              " 'diario': 866,\n",
              " 'medio': 867,\n",
              " '278': 868,\n",
              " 'relacoes': 869,\n",
              " 'institucionais': 870,\n",
              " 'exercicio': 871,\n",
              " '597': 872,\n",
              " '1982': 873,\n",
              " 'kelly': 874,\n",
              " 'ria': 875,\n",
              " 'internacional': 876,\n",
              " 'ubiratan': 877,\n",
              " 'brasiliense': 878,\n",
              " 'prorrogacao': 879,\n",
              " 'paginas': 880,\n",
              " 'ra': 881,\n",
              " '34': 882,\n",
              " 'oportunidades': 883,\n",
              " 'economicas': 884,\n",
              " 'agefis': 885,\n",
              " 'microcredito': 886,\n",
              " '215': 887,\n",
              " 'atividade': 888,\n",
              " 'plantao': 889,\n",
              " 'machado': 890,\n",
              " '101': 891,\n",
              " 'doria': 892,\n",
              " '53': 893,\n",
              " '189': 894,\n",
              " 'estradas': 895,\n",
              " 'rodagem': 896,\n",
              " 'luis': 897,\n",
              " 'estagio': 898,\n",
              " 'aprendizagem': 899,\n",
              " 'wilson': 900,\n",
              " 'amparo': 901,\n",
              " 'mateus': 902,\n",
              " 'slu': 903,\n",
              " '75': 904,\n",
              " '239': 905,\n",
              " 'radiologia': 906,\n",
              " 'cavalcante': 907,\n",
              " 'andreia': 908,\n",
              " 'integral': 909,\n",
              " 'oeste': 910,\n",
              " 'hozana': 911,\n",
              " '169': 912,\n",
              " 'andressa': 913,\n",
              " 'faria': 914,\n",
              " 'mariana': 915,\n",
              " 'bancas': 916,\n",
              " 'jornal': 917,\n",
              " 'claras': 918,\n",
              " 'anos': 919,\n",
              " 'contribuicao': 920,\n",
              " 'elizabeth': 921,\n",
              " 'reintegracao': 922,\n",
              " '129': 923,\n",
              " 'documentacao': 924,\n",
              " '265': 925,\n",
              " 'juridica': 926,\n",
              " 'adriana': 927,\n",
              " '652': 928,\n",
              " 'menezes': 929,\n",
              " '220': 930,\n",
              " '769': 931,\n",
              " '70': 932,\n",
              " 'policiais': 933,\n",
              " 'transito': 934,\n",
              " 'patologia': 935,\n",
              " 'tec': 936,\n",
              " 'tutelares': 937,\n",
              " 'certidao': 938,\n",
              " 'expedida': 939,\n",
              " 'retificada': 940,\n",
              " 'fim': 941,\n",
              " 'anteriormente': 942,\n",
              " 'executiva': 943,\n",
              " 'felix': 944,\n",
              " 'ad': 945,\n",
              " 'retificacao': 946,\n",
              " '187': 947,\n",
              " 'recanto': 948,\n",
              " 'emas': 949,\n",
              " 'pinho': 950,\n",
              " 'licitacao': 951,\n",
              " 'denacao': 952,\n",
              " 'razao': 953,\n",
              " 'maia': 954,\n",
              " '0080': 955,\n",
              " 'macedo': 956,\n",
              " 'terminais': 957,\n",
              " 'agropecuaria': 958,\n",
              " '142': 959,\n",
              " '1980': 960,\n",
              " 'comandos': 961,\n",
              " '38': 962,\n",
              " '442': 963,\n",
              " 'epidemiologica': 964,\n",
              " 'bernardes': 965,\n",
              " 'programacao': 966,\n",
              " 'janaina': 967,\n",
              " 'trindade': 968,\n",
              " 'ge': 969,\n",
              " '657': 970,\n",
              " 'producao': 971,\n",
              " 'ca': 972,\n",
              " '168': 973,\n",
              " 'ro': 974,\n",
              " 'neves': 975,\n",
              " '080': 976,\n",
              " '47': 977,\n",
              " 'voluntaria': 978,\n",
              " '809': 979,\n",
              " 'mauricio': 980,\n",
              " 'vice': 981,\n",
              " 'cao': 982,\n",
              " 'ouvidoria': 983,\n",
              " 'nacao': 984,\n",
              " 'peixoto': 985,\n",
              " 'leonardo': 986,\n",
              " '264': 987,\n",
              " 'cap': 988,\n",
              " '654': 989,\n",
              " 'feitosa': 990,\n",
              " 'amanda': 991,\n",
              " '431': 992,\n",
              " 'teles': 993,\n",
              " 'regime': 994,\n",
              " 'camargo': 995,\n",
              " 'marcelo': 996,\n",
              " 'es': 997,\n",
              " 'rigueira': 998,\n",
              " 'carmo': 999,\n",
              " 'vencimentos': 1000,\n",
              " ...}"
            ]
          },
          "metadata": {},
          "execution_count": 16
        }
      ]
    },
    {
      "cell_type": "markdown",
      "metadata": {
        "id": "2d1IqPn7HrNk"
      },
      "source": [
        "O método `texts_to_sequences` converte uma entrada de texto em uma lista de inteiros via a prop `word_index` criada anteriormente. A função `pad_sequences` adiciona um padding a cada entrada para garantir que todas as sequências tenham o mesmo tamanho."
      ]
    },
    {
      "cell_type": "code",
      "metadata": {
        "id": "iDCwSxgsHrNl"
      },
      "source": [
        "train_sequences = tokenizer.texts_to_sequences(X_train)"
      ],
      "execution_count": 17,
      "outputs": []
    },
    {
      "cell_type": "code",
      "metadata": {
        "colab": {
          "base_uri": "https://localhost:8080/"
        },
        "id": "EH3AGrbZHrNl",
        "outputId": "279a6ecc-26ed-4bfc-f680-8f24fb4c97d1"
      },
      "source": [
        "len(train_sequences[0])"
      ],
      "execution_count": 18,
      "outputs": [
        {
          "output_type": "execute_result",
          "data": {
            "text/plain": [
              "62"
            ]
          },
          "metadata": {},
          "execution_count": 18
        }
      ]
    },
    {
      "cell_type": "code",
      "metadata": {
        "id": "5K-1CeG8HrNl"
      },
      "source": [
        "train_padded = pad_sequences(train_sequences, maxlen=max_length, padding=padding_type, truncating=trunc_type)"
      ],
      "execution_count": 19,
      "outputs": []
    },
    {
      "cell_type": "code",
      "metadata": {
        "colab": {
          "base_uri": "https://localhost:8080/"
        },
        "id": "BiJcFBxIHrNm",
        "outputId": "854c1904-3cb0-40f0-a1bc-656bbb11ff0f"
      },
      "source": [
        "len(train_padded[0])"
      ],
      "execution_count": 20,
      "outputs": [
        {
          "output_type": "execute_result",
          "data": {
            "text/plain": [
              "64"
            ]
          },
          "metadata": {},
          "execution_count": 20
        }
      ]
    },
    {
      "cell_type": "code",
      "metadata": {
        "id": "ZNUm4LWSHrNm"
      },
      "source": [
        "test_sequences = tokenizer.texts_to_sequences(X_test)\n",
        "test_padded = pad_sequences(test_sequences, maxlen=max_length, padding=padding_type, truncating=trunc_type)"
      ],
      "execution_count": 21,
      "outputs": []
    },
    {
      "cell_type": "code",
      "metadata": {
        "colab": {
          "base_uri": "https://localhost:8080/"
        },
        "id": "6b67yQ5qHrNm",
        "outputId": "933d9352-e2f9-4467-f9ab-f3d565ad8067"
      },
      "source": [
        "train_padded.shape, test_padded.shape"
      ],
      "execution_count": 22,
      "outputs": [
        {
          "output_type": "execute_result",
          "data": {
            "text/plain": [
              "((1696, 64), (566, 64))"
            ]
          },
          "metadata": {},
          "execution_count": 22
        }
      ]
    },
    {
      "cell_type": "code",
      "metadata": {
        "colab": {
          "base_uri": "https://localhost:8080/"
        },
        "id": "WSD4KKYfHrNm",
        "outputId": "2710d937-507a-4dc1-c0f4-668d1cc367ab"
      },
      "source": [
        "print(X_train.iloc[0])\n",
        "print(train_sequences[0])"
      ],
      "execution_count": 23,
      "outputs": [
        {
          "output_type": "stream",
          "text": [
            "Na Ordem de Servico de 18/06/2002, da Gerencia de Cadastro de Registro, publicada no DODF \n",
            "no 117, de 21/06/2002, pagina 21, que concedeu Licenca-Premio por Assiduidade a MARINA \n",
            "RODRIGUES FERNANDES, matricula 54.470-1, ONDE SE LE: 4o quinquenio: 01/03/1997 \n",
            "a 28/02/2002, LEIA-SE: 4o quinquenio: 14/05/1997 a 13/05/2002.\n",
            "[33, 82, 2, 78, 2, 152, 40, 187, 3, 28, 2, 175, 2, 182, 68, 5, 27, 5, 1, 2, 141, 40, 187, 35, 141, 31, 84, 77, 80, 26, 98, 6, 1, 192, 378, 15, 562, 715, 45, 54, 22, 53, 176, 61, 73, 74, 208, 6, 165, 81, 187, 55, 22, 176, 61, 43, 46, 208, 6, 110, 46, 187]\n"
          ],
          "name": "stdout"
        }
      ]
    },
    {
      "cell_type": "markdown",
      "metadata": {
        "id": "a1N48Bt5HrNn"
      },
      "source": [
        "#### Instanciando o modelo"
      ]
    },
    {
      "cell_type": "code",
      "metadata": {
        "colab": {
          "base_uri": "https://localhost:8080/"
        },
        "id": "50ZPwU7rHrNn",
        "outputId": "bc42e0f9-4629-4188-8b94-bccd3aa73d23"
      },
      "source": [
        "classes = set(labels_unique_dict)\n",
        "classes"
      ],
      "execution_count": 24,
      "outputs": [
        {
          "output_type": "execute_result",
          "data": {
            "text/plain": [
              "{'Ato_Abono_Permanencia',\n",
              " 'Ato_Cessao',\n",
              " 'Ato_Exoneracao_Comissionado',\n",
              " 'Ato_Exoneracao_Efetivo',\n",
              " 'Ato_Nomeacao_Comissionado',\n",
              " 'Ato_Nomeacao_Efetivo',\n",
              " 'Ato_Retificacao_Comissionado',\n",
              " 'Ato_Retificacao_Efetivo',\n",
              " 'Ato_Reversao',\n",
              " 'Ato_Substituicao',\n",
              " 'Ato_Tornado_Sem_Efeito_Apo',\n",
              " 'Ato_Tornado_Sem_Efeito_Exo_Nom'}"
            ]
          },
          "metadata": {},
          "execution_count": 24
        }
      ]
    },
    {
      "cell_type": "code",
      "metadata": {
        "id": "cZfKQYD-HrNn"
      },
      "source": [
        "num_classes = len(classes)"
      ],
      "execution_count": 25,
      "outputs": []
    },
    {
      "cell_type": "markdown",
      "metadata": {
        "id": "xizoxFwlHrNn"
      },
      "source": [
        "Começamos com uma camada de embedding, que recebe os índices de inteiros e os transforma em vetores de palavras. É importante que `input_length` corresponda com o tamanho dos dados - mais cedo setamos como `max_length` 64 tokens. Em seguida, temos a primeira camada LSTM, com uma saída de dimensionalidade de 128. Adicionamos uma camada de Dropout. De acordo com a documentação do Keras, essa camada 'aleatoriamente seta unidades de entrada com 0, com frequência de ocorrência indicada como parâmetro em cada passo do treinamento, o que previne overfitting'. Nós então repetimos essa combinação, com a camada LSTM recebendo metade das unidades de entrada em relação à combinação anterior. Por último, adicionamos uma camada Dense, que implementa a função de ativação. O primeiro parâmetro aqui se refere à dimensionalidade da saída.\n",
        "\n",
        "- Embedding ref: https://keras.io/api/layers/core_layers/embedding/\n",
        "- LSTM ref: https://www.tensorflow.org/api_docs/python/tf/keras/layers/LSTM\n",
        "- Dropout ref: https://keras.io/api/layers/regularization_layers/dropout/\n",
        "- Dense ref: https://keras.io/api/layers/core_layers/dense/."
      ]
    },
    {
      "cell_type": "code",
      "metadata": {
        "colab": {
          "base_uri": "https://localhost:8080/"
        },
        "id": "aoPe2XlZHrNn",
        "outputId": "c77d65cc-3816-4a0a-ae66-5179b9380950"
      },
      "source": [
        "model = Sequential()\n",
        "\n",
        "model.add(Embedding(vocab_size, output_dim=64, input_length=64))\n",
        "model.add(LSTM(64, return_sequences=True))\n",
        "model.add(Dropout(0.5))\n",
        "model.add(LSTM(32))\n",
        "model.add(Dropout(0.5))\n",
        "model.add(Dense(num_classes, activation='sigmoid'))\n",
        "\n",
        "model.summary()"
      ],
      "execution_count": 47,
      "outputs": [
        {
          "output_type": "stream",
          "text": [
            "Model: \"sequential_1\"\n",
            "_________________________________________________________________\n",
            "Layer (type)                 Output Shape              Param #   \n",
            "=================================================================\n",
            "embedding_1 (Embedding)      (None, 64, 64)            64000     \n",
            "_________________________________________________________________\n",
            "lstm_2 (LSTM)                (None, 64, 64)            33024     \n",
            "_________________________________________________________________\n",
            "dropout_2 (Dropout)          (None, 64, 64)            0         \n",
            "_________________________________________________________________\n",
            "lstm_3 (LSTM)                (None, 32)                12416     \n",
            "_________________________________________________________________\n",
            "dropout_3 (Dropout)          (None, 32)                0         \n",
            "_________________________________________________________________\n",
            "dense_1 (Dense)              (None, 12)                396       \n",
            "=================================================================\n",
            "Total params: 109,836\n",
            "Trainable params: 109,836\n",
            "Non-trainable params: 0\n",
            "_________________________________________________________________\n"
          ],
          "name": "stdout"
        }
      ]
    },
    {
      "cell_type": "markdown",
      "metadata": {
        "id": "fIkCFivuHrNo"
      },
      "source": [
        "A função de loss usada é a `sparse_categorical_crossentropy`. Ela é a mais indicada para cenários multiclasse.\n",
        "\n",
        "Ref: https://keras.io/api/losses/probabilistic_losses/#sparsecategoricalcrossentropy-class"
      ]
    },
    {
      "cell_type": "code",
      "metadata": {
        "id": "eUqHJu2mHrNo"
      },
      "source": [
        "opt = tf.keras.optimizers.Adam(learning_rate=0.001, decay=1e-6)\n",
        "model.compile(\n",
        "    loss='sparse_categorical_crossentropy',\n",
        "    optimizer=opt,\n",
        "    metrics=['accuracy'],\n",
        ")"
      ],
      "execution_count": 48,
      "outputs": []
    },
    {
      "cell_type": "code",
      "metadata": {
        "colab": {
          "base_uri": "https://localhost:8080/"
        },
        "id": "-UrnUbCqHrNo",
        "outputId": "1952a8fb-cbf0-47ea-a6d1-0afba9ec3476"
      },
      "source": [
        "train_padded[0]"
      ],
      "execution_count": 49,
      "outputs": [
        {
          "output_type": "execute_result",
          "data": {
            "text/plain": [
              "array([ 33,  82,   2,  78,   2, 152,  40, 187,   3,  28,   2, 175,   2,\n",
              "       182,  68,   5,  27,   5,   1,   2, 141,  40, 187,  35, 141,  31,\n",
              "        84,  77,  80,  26,  98,   6,   1, 192, 378,  15, 562, 715,  45,\n",
              "        54,  22,  53, 176,  61,  73,  74, 208,   6, 165,  81, 187,  55,\n",
              "        22, 176,  61,  43,  46, 208,   6, 110,  46, 187,   0,   0],\n",
              "      dtype=int32)"
            ]
          },
          "metadata": {},
          "execution_count": 49
        }
      ]
    },
    {
      "cell_type": "code",
      "metadata": {
        "colab": {
          "base_uri": "https://localhost:8080/"
        },
        "id": "T-aFJLpgHrNo",
        "outputId": "af2737d1-be1c-44a3-b5f8-e14bf7580a05"
      },
      "source": [
        "train_labels[0]"
      ],
      "execution_count": 50,
      "outputs": [
        {
          "output_type": "execute_result",
          "data": {
            "text/plain": [
              "10"
            ]
          },
          "metadata": {},
          "execution_count": 50
        }
      ]
    },
    {
      "cell_type": "code",
      "metadata": {
        "colab": {
          "base_uri": "https://localhost:8080/"
        },
        "id": "5nIFVlJFHrNp",
        "outputId": "655a8747-3bc9-4429-efc8-5d56a3a6f367"
      },
      "source": [
        "train_padded.shape, train_labels.shape"
      ],
      "execution_count": 51,
      "outputs": [
        {
          "output_type": "execute_result",
          "data": {
            "text/plain": [
              "((1696, 64), (1696,))"
            ]
          },
          "metadata": {},
          "execution_count": 51
        }
      ]
    },
    {
      "cell_type": "markdown",
      "metadata": {
        "id": "LMmnqAOPHrNp"
      },
      "source": [
        "#### Fit no modelo"
      ]
    },
    {
      "cell_type": "code",
      "metadata": {
        "colab": {
          "base_uri": "https://localhost:8080/"
        },
        "id": "UQWZ-TDEHrNp",
        "outputId": "f9896a12-750b-407e-9144-1695a2904dbf"
      },
      "source": [
        "history = model.fit(train_padded, train_labels, epochs=15, validation_data=(test_padded, test_labels))"
      ],
      "execution_count": 52,
      "outputs": [
        {
          "output_type": "stream",
          "text": [
            "Epoch 1/15\n",
            "53/53 [==============================] - 6s 56ms/step - loss: 1.9038 - accuracy: 0.3290 - val_loss: 1.3810 - val_accuracy: 0.5353\n",
            "Epoch 2/15\n",
            "53/53 [==============================] - 2s 38ms/step - loss: 1.3131 - accuracy: 0.4894 - val_loss: 1.0189 - val_accuracy: 0.5866\n",
            "Epoch 3/15\n",
            "53/53 [==============================] - 2s 38ms/step - loss: 0.9950 - accuracy: 0.6226 - val_loss: 0.7707 - val_accuracy: 0.7597\n",
            "Epoch 4/15\n",
            "53/53 [==============================] - 2s 37ms/step - loss: 0.7387 - accuracy: 0.7789 - val_loss: 0.4989 - val_accuracy: 0.8233\n",
            "Epoch 5/15\n",
            "53/53 [==============================] - 2s 37ms/step - loss: 0.5248 - accuracy: 0.8414 - val_loss: 0.4080 - val_accuracy: 0.8587\n",
            "Epoch 6/15\n",
            "53/53 [==============================] - 2s 37ms/step - loss: 0.4451 - accuracy: 0.8585 - val_loss: 0.3353 - val_accuracy: 0.8799\n",
            "Epoch 7/15\n",
            "53/53 [==============================] - 2s 38ms/step - loss: 0.4465 - accuracy: 0.8667 - val_loss: 0.3974 - val_accuracy: 0.8481\n",
            "Epoch 8/15\n",
            "53/53 [==============================] - 2s 38ms/step - loss: 0.3572 - accuracy: 0.8909 - val_loss: 0.2834 - val_accuracy: 0.9028\n",
            "Epoch 9/15\n",
            "53/53 [==============================] - 2s 38ms/step - loss: 0.3518 - accuracy: 0.9033 - val_loss: 0.3954 - val_accuracy: 0.8799\n",
            "Epoch 10/15\n",
            "53/53 [==============================] - 2s 37ms/step - loss: 0.4911 - accuracy: 0.8844 - val_loss: 0.3057 - val_accuracy: 0.9117\n",
            "Epoch 11/15\n",
            "53/53 [==============================] - 2s 37ms/step - loss: 0.3694 - accuracy: 0.9027 - val_loss: 0.3434 - val_accuracy: 0.8975\n",
            "Epoch 12/15\n",
            "53/53 [==============================] - 2s 38ms/step - loss: 0.3942 - accuracy: 0.9015 - val_loss: 0.2287 - val_accuracy: 0.9417\n",
            "Epoch 13/15\n",
            "53/53 [==============================] - 2s 38ms/step - loss: 0.2583 - accuracy: 0.9287 - val_loss: 0.1892 - val_accuracy: 0.9435\n",
            "Epoch 14/15\n",
            "53/53 [==============================] - 2s 38ms/step - loss: 0.2458 - accuracy: 0.9346 - val_loss: 0.2269 - val_accuracy: 0.9382\n",
            "Epoch 15/15\n",
            "53/53 [==============================] - 2s 38ms/step - loss: 0.2092 - accuracy: 0.9458 - val_loss: 0.1770 - val_accuracy: 0.9470\n"
          ],
          "name": "stdout"
        }
      ]
    },
    {
      "cell_type": "markdown",
      "metadata": {
        "id": "xgKY43FzHrNp"
      },
      "source": [
        "Plot do ajuste do modelo conforme épocas rodadas:"
      ]
    },
    {
      "cell_type": "code",
      "metadata": {
        "id": "8Or7Rj4pHrNq"
      },
      "source": [
        "# https://www.tensorflow.org/text/tutorials/text_classification_rnn?hl=en\n",
        "\n",
        "import matplotlib.pyplot as plt\n",
        "\n",
        "def plot_graphs(history, metric):\n",
        "  plt.plot(history.history[metric])\n",
        "  plt.plot(history.history['val_'+metric], '')\n",
        "  plt.xlabel(\"Epochs\")\n",
        "  plt.ylabel(metric)\n",
        "  plt.legend([metric, 'val_'+metric])"
      ],
      "execution_count": 32,
      "outputs": []
    },
    {
      "cell_type": "code",
      "metadata": {
        "colab": {
          "base_uri": "https://localhost:8080/",
          "height": 517
        },
        "id": "tkuHhOYxHrNq",
        "outputId": "b5ea6965-bc74-43a7-ddbe-b59f8db25cbf"
      },
      "source": [
        "plt.figure(figsize=(16, 8))\n",
        "plt.subplot(1, 2, 1)\n",
        "plot_graphs(history, 'accuracy')\n",
        "plt.ylim(None, 1)\n",
        "plt.subplot(1, 2, 2)\n",
        "plot_graphs(history, 'loss')\n",
        "plt.ylim(0, None)"
      ],
      "execution_count": 53,
      "outputs": [
        {
          "output_type": "execute_result",
          "data": {
            "text/plain": [
              "(0.0, 1.9901136368513108)"
            ]
          },
          "metadata": {},
          "execution_count": 53
        },
        {
          "output_type": "display_data",
          "data": {
            "image/png": "[encoded data removed]",
            "text/plain": [
              "<Figure size 1152x576 with 2 Axes>"
            ]
          },
          "metadata": {
            "needs_background": "light"
          }
        }
      ]
    },
    {
      "cell_type": "markdown",
      "metadata": {
        "id": "M6_aj1iQHrNq"
      },
      "source": [
        "Vimos a acurácia, mas vamos checar a perspectiva de outras métricas:"
      ]
    },
    {
      "cell_type": "code",
      "metadata": {
        "id": "vXdWha6fHrNq"
      },
      "source": [
        "# evaluate the model\n",
        "_, test_acc = model.evaluate(test_padded, test_labels, verbose=0)"
      ],
      "execution_count": 54,
      "outputs": []
    },
    {
      "cell_type": "code",
      "metadata": {
        "colab": {
          "base_uri": "https://localhost:8080/"
        },
        "id": "9g_cPaK3HrNq",
        "outputId": "58512b3b-9971-43a8-b807-8c4fa6432499"
      },
      "source": [
        "print(test_acc)"
      ],
      "execution_count": 55,
      "outputs": [
        {
          "output_type": "stream",
          "text": [
            "0.9469964504241943\n"
          ],
          "name": "stdout"
        }
      ]
    },
    {
      "cell_type": "markdown",
      "metadata": {
        "id": "cdMqqSQeHrNs"
      },
      "source": [
        "Obtendo vetor de predições no conjunto de teste. Note que usamos um batch_size de 50 (12 * 50 = 600)."
      ]
    },
    {
      "cell_type": "code",
      "metadata": {
        "colab": {
          "base_uri": "https://localhost:8080/"
        },
        "id": "xMKibMjCHrNt",
        "outputId": "6e98f2b5-719f-4ba4-c5b2-7dd18dedf9ca"
      },
      "source": [
        "y_pred_lstm = model.predict(test_padded, batch_size=50, verbose=2)"
      ],
      "execution_count": 56,
      "outputs": [
        {
          "output_type": "stream",
          "text": [
            "12/12 - 1s\n"
          ],
          "name": "stdout"
        }
      ]
    },
    {
      "cell_type": "markdown",
      "metadata": {
        "id": "Rgvs-OpPHrNt"
      },
      "source": [
        "Nosso vetor tem dimensionalidade de 566 instâncias do conjunto de teste, com 12 valores representando probabilidades de pertencimento à cada classe (saída da camada Dense)."
      ]
    },
    {
      "cell_type": "code",
      "metadata": {
        "colab": {
          "base_uri": "https://localhost:8080/"
        },
        "id": "tKZte8SYHrNt",
        "outputId": "a6c5a53b-5024-4e69-844d-1a3df5cd77cc"
      },
      "source": [
        "y_pred_lstm.shape"
      ],
      "execution_count": 57,
      "outputs": [
        {
          "output_type": "execute_result",
          "data": {
            "text/plain": [
              "(566, 12)"
            ]
          },
          "metadata": {},
          "execution_count": 57
        }
      ]
    },
    {
      "cell_type": "markdown",
      "metadata": {
        "id": "Anwa7xAlHrNu"
      },
      "source": [
        "Queremos um vetor que represente a classe predita em cada instância, isto é, a classe de maior probabilidade do vetor `y_pred_lstm`. Fazemos isso usando o `argmax` do numpy."
      ]
    },
    {
      "cell_type": "code",
      "metadata": {
        "colab": {
          "base_uri": "https://localhost:8080/"
        },
        "id": "TH8V-3iqHrNu",
        "outputId": "a1b9f434-71dc-4045-9dc0-b0a904a0ba6d"
      },
      "source": [
        "index_array = np.argmax(y_pred_lstm, axis=-1)\n",
        "len(index_array)"
      ],
      "execution_count": 58,
      "outputs": [
        {
          "output_type": "execute_result",
          "data": {
            "text/plain": [
              "566"
            ]
          },
          "metadata": {},
          "execution_count": 58
        }
      ]
    },
    {
      "cell_type": "markdown",
      "metadata": {
        "id": "0dyTEmI5HrNv"
      },
      "source": [
        "Agora podemos calcular facilmente Precisão, Recall e F1 Score usando o `precision_recall_fscore_support` do Sklearn."
      ]
    },
    {
      "cell_type": "code",
      "metadata": {
        "colab": {
          "base_uri": "https://localhost:8080/"
        },
        "id": "LO7vrw6iHrNv",
        "outputId": "19f06372-9841-47b6-a797-d351b2be240c"
      },
      "source": [
        "from sklearn.metrics import precision_recall_fscore_support\n",
        "\n",
        "results = pd.DataFrame(columns = ['Precision', 'Recall', 'F1 score', 'support']\n",
        "          )\n",
        "results.loc['LSTM'] = precision_recall_fscore_support(\n",
        "          y_test, \n",
        "          index_array, \n",
        "          average = 'weighted'\n",
        "          )"
      ],
      "execution_count": 59,
      "outputs": [
        {
          "output_type": "stream",
          "text": [
            "/usr/local/lib/python3.7/dist-packages/sklearn/metrics/_classification.py:1272: UndefinedMetricWarning: Precision and F-score are ill-defined and being set to 0.0 in labels with no predicted samples. Use `zero_division` parameter to control this behavior.\n",
            "  _warn_prf(average, modifier, msg_start, len(result))\n"
          ],
          "name": "stderr"
        }
      ]
    },
    {
      "cell_type": "code",
      "metadata": {
        "colab": {
          "base_uri": "https://localhost:8080/",
          "height": 80
        },
        "id": "4VvWTMRqHrNw",
        "outputId": "6265e542-2ad3-4e05-d8e6-5565982a28d8"
      },
      "source": [
        "results"
      ],
      "execution_count": 60,
      "outputs": [
        {
          "output_type": "execute_result",
          "data": {
            "text/html": [
              "<div>\n",
              "<style scoped>\n",
              "    .dataframe tbody tr th:only-of-type {\n",
              "        vertical-align: middle;\n",
              "    }\n",
              "\n",
              "    .dataframe tbody tr th {\n",
              "        vertical-align: top;\n",
              "    }\n",
              "\n",
              "    .dataframe thead th {\n",
              "        text-align: right;\n",
              "    }\n",
              "</style>\n",
              "<table border=\"1\" class=\"dataframe\">\n",
              "  <thead>\n",
              "    <tr style=\"text-align: right;\">\n",
              "      <th></th>\n",
              "      <th>Precision</th>\n",
              "      <th>Recall</th>\n",
              "      <th>F1 score</th>\n",
              "      <th>support</th>\n",
              "    </tr>\n",
              "  </thead>\n",
              "  <tbody>\n",
              "    <tr>\n",
              "      <th>LSTM</th>\n",
              "      <td>0.929525</td>\n",
              "      <td>0.946996</td>\n",
              "      <td>0.936449</td>\n",
              "      <td>NaN</td>\n",
              "    </tr>\n",
              "  </tbody>\n",
              "</table>\n",
              "</div>"
            ],
            "text/plain": [
              "      Precision    Recall  F1 score  support\n",
              "LSTM   0.929525  0.946996  0.936449      NaN"
            ]
          },
          "metadata": {},
          "execution_count": 60
        }
      ]
    },
    {
      "cell_type": "markdown",
      "metadata": {
        "id": "eM2S7HNgHoiF"
      },
      "source": [
        "### Baseline TFIDF + SVM e Regressão Logística\n"
      ]
    },
    {
      "cell_type": "markdown",
      "metadata": {
        "id": "RliOsbkNHoiG"
      },
      "source": [
        "Encode TFIDF:"
      ]
    },
    {
      "cell_type": "code",
      "metadata": {
        "colab": {
          "base_uri": "https://localhost:8080/"
        },
        "id": "g8GbSfLVHoiG",
        "outputId": "f7aefe2a-a522-4374-e13c-4d8c61693968"
      },
      "source": [
        "from sklearn.feature_extraction.text import TfidfVectorizer\n",
        "\n",
        "vectorizer = TfidfVectorizer()\n",
        "\n",
        "# fit_transform no treino\n",
        "X_csr_train = vectorizer.fit_transform(X_train)\n",
        "print(X_csr_train.shape)\n",
        "\n",
        "# apenas transform no teste\n",
        "X_csr_test = vectorizer.transform(X_test)\n",
        "print(X_csr_test.shape)"
      ],
      "execution_count": 61,
      "outputs": [
        {
          "output_type": "stream",
          "text": [
            "(1696, 4548)\n",
            "(566, 4548)\n"
          ],
          "name": "stdout"
        }
      ]
    },
    {
      "cell_type": "markdown",
      "metadata": {
        "id": "O0b2CCSqHoiH"
      },
      "source": [
        "Aplicação nos modelos com hiperparâmetros padrão:"
      ]
    },
    {
      "cell_type": "code",
      "metadata": {
        "id": "PRg8Ed3_HoiH"
      },
      "source": [
        "from sklearn.svm import LinearSVC\n",
        "from sklearn.linear_model import LogisticRegression"
      ],
      "execution_count": 42,
      "outputs": []
    },
    {
      "cell_type": "code",
      "metadata": {
        "colab": {
          "base_uri": "https://localhost:8080/"
        },
        "id": "ao2m2lfZHoiH",
        "outputId": "39ac6bda-715e-4c7e-b6f0-338dcf4725f4"
      },
      "source": [
        "svm_model = LinearSVC(max_iter=1000, random_state=14, verbose=True)\n",
        "svm_model.fit(X_csr_train, y_train)\n",
        "svm_prediction_tfidf = svm_model.predict(X_csr_test)"
      ],
      "execution_count": 43,
      "outputs": [
        {
          "output_type": "stream",
          "text": [
            "[LibLinear]"
          ],
          "name": "stdout"
        }
      ]
    },
    {
      "cell_type": "code",
      "metadata": {
        "colab": {
          "base_uri": "https://localhost:8080/"
        },
        "id": "Cr4RRo2dHoiI",
        "outputId": "7c706397-6910-473e-c49a-e3ef3a2d021f"
      },
      "source": [
        "tfidf_logreg = LogisticRegression(max_iter=1000, random_state=14, verbose=True)\n",
        "tfidf_logreg.fit(X_csr_train, y_train)\n",
        "y_pred_tfidf_reg = tfidf_logreg.predict(X_csr_test)"
      ],
      "execution_count": 44,
      "outputs": [
        {
          "output_type": "stream",
          "text": [
            "[Parallel(n_jobs=1)]: Using backend SequentialBackend with 1 concurrent workers.\n",
            "[Parallel(n_jobs=1)]: Done   1 out of   1 | elapsed:    1.2s finished\n"
          ],
          "name": "stderr"
        }
      ]
    },
    {
      "cell_type": "code",
      "metadata": {
        "colab": {
          "base_uri": "https://localhost:8080/"
        },
        "id": "iT6G9rWBHoiI",
        "outputId": "85cfc01b-1d63-46f5-8350-3eb1eece8123"
      },
      "source": [
        "results = pd.DataFrame(columns = ['Precision', 'Recall', 'F1 score', 'support']\n",
        "          )\n",
        "results.loc['LSTM'] = precision_recall_fscore_support(\n",
        "          y_test, \n",
        "          index_array, \n",
        "          average = 'weighted'\n",
        "          )\n",
        "results.loc['TFIDF + LogReg'] = precision_recall_fscore_support(\n",
        "          y_test, \n",
        "          y_pred_tfidf_reg, \n",
        "          average = 'weighted'\n",
        "          )\n",
        "results.loc['TFIDF + SVM'] = precision_recall_fscore_support(\n",
        "          y_test, \n",
        "          svm_prediction_tfidf, \n",
        "          average = 'weighted'\n",
        "          )"
      ],
      "execution_count": 62,
      "outputs": [
        {
          "output_type": "stream",
          "text": [
            "/usr/local/lib/python3.7/dist-packages/sklearn/metrics/_classification.py:1272: UndefinedMetricWarning: Precision and F-score are ill-defined and being set to 0.0 in labels with no predicted samples. Use `zero_division` parameter to control this behavior.\n",
            "  _warn_prf(average, modifier, msg_start, len(result))\n"
          ],
          "name": "stderr"
        }
      ]
    },
    {
      "cell_type": "code",
      "metadata": {
        "colab": {
          "base_uri": "https://localhost:8080/",
          "height": 142
        },
        "id": "Ia_jhmdWHoiI",
        "outputId": "d16003fd-6fe1-48c6-c6d7-1328a8047278"
      },
      "source": [
        "results"
      ],
      "execution_count": 63,
      "outputs": [
        {
          "output_type": "execute_result",
          "data": {
            "text/html": [
              "<div>\n",
              "<style scoped>\n",
              "    .dataframe tbody tr th:only-of-type {\n",
              "        vertical-align: middle;\n",
              "    }\n",
              "\n",
              "    .dataframe tbody tr th {\n",
              "        vertical-align: top;\n",
              "    }\n",
              "\n",
              "    .dataframe thead th {\n",
              "        text-align: right;\n",
              "    }\n",
              "</style>\n",
              "<table border=\"1\" class=\"dataframe\">\n",
              "  <thead>\n",
              "    <tr style=\"text-align: right;\">\n",
              "      <th></th>\n",
              "      <th>Precision</th>\n",
              "      <th>Recall</th>\n",
              "      <th>F1 score</th>\n",
              "      <th>support</th>\n",
              "    </tr>\n",
              "  </thead>\n",
              "  <tbody>\n",
              "    <tr>\n",
              "      <th>LSTM</th>\n",
              "      <td>0.929525</td>\n",
              "      <td>0.946996</td>\n",
              "      <td>0.936449</td>\n",
              "      <td>NaN</td>\n",
              "    </tr>\n",
              "    <tr>\n",
              "      <th>TFIDF + LogReg</th>\n",
              "      <td>0.956668</td>\n",
              "      <td>0.962898</td>\n",
              "      <td>0.958400</td>\n",
              "      <td>NaN</td>\n",
              "    </tr>\n",
              "    <tr>\n",
              "      <th>TFIDF + SVM</th>\n",
              "      <td>0.989392</td>\n",
              "      <td>0.989399</td>\n",
              "      <td>0.989362</td>\n",
              "      <td>NaN</td>\n",
              "    </tr>\n",
              "  </tbody>\n",
              "</table>\n",
              "</div>"
            ],
            "text/plain": [
              "                Precision    Recall  F1 score  support\n",
              "LSTM             0.929525  0.946996  0.936449      NaN\n",
              "TFIDF + LogReg   0.956668  0.962898  0.958400      NaN\n",
              "TFIDF + SVM      0.989392  0.989399  0.989362      NaN"
            ]
          },
          "metadata": {},
          "execution_count": 63
        }
      ]
    },
    {
      "cell_type": "markdown",
      "metadata": {
        "id": "gTimcwtyHoiJ"
      },
      "source": [
        "Aqui os baselines vão melhor!\n",
        "\n",
        "A combinação TFIDF + SVM teve o melhor score - sem busca de hiperparâmetros, diga-se de passagem - rodando em CPU, com um custo computacional muito menor. Possivelmente explorando outras opções de arquitetura para a rede ou tamanho da entrada para a camada LSTM, poderíamos obter um score melhor. A análise do tradeoff entre performance e custo-benefício depende muito do tipo de aplicação; aqui o baseline soa mais adequado."
      ]
    },
    {
      "cell_type": "code",
      "metadata": {
        "id": "nBAd09aiNyJj"
      },
      "source": [
        ""
      ],
      "execution_count": 46,
      "outputs": []
    }
  ]
}